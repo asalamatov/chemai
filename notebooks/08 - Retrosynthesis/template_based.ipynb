{
 "cells": [
  {
   "cell_type": "markdown",
   "id": "fc007990-d0c3-46e3-a0ea-069fdb3fb64f",
   "metadata": {},
   "source": [
    "<a href=\"https://colab.research.google.com/github/schwallergroup/ai4chem_course/blob/main/notebooks/08%20-%20Retrosynthesis/template_based.ipynb\" target=\"_parent\"><img src=\"https://colab.research.google.com/assets/colab-badge.svg\" alt=\"Open In Colab\"/></a>"
   ]
  },
  {
   "cell_type": "markdown",
   "id": "2d977fe0-2afc-4728-9a4d-f395020f0357",
   "metadata": {},
   "source": [
    "# Week 8: Retrosynthetic analysis\n",
    "\n",
    "So far we in the course we have learnt how Machine Learning can help us classify and predict properties of molecules, how to generate new molecules with desired properties, and finally how to predict the reactivity of a reaction mixture.\n",
    "\n",
    "Central to the chemists' work is, however, **how to make molecules**, and this is what we will explore in this notebook. To do retrosynthetic analysis, we start from the target molecule and try to decide what transformation would lead to the desired product. \n",
    "\n",
    "<img src='retro_q.png'>"
   ]
  },
  {
   "cell_type": "markdown",
   "id": "6221d77f-bd3b-4c7d-a57e-9de7f462c3d1",
   "metadata": {},
   "source": [
    "## How do we decide this? \n",
    "\n",
    "In the simplest approach, we would need to have **a library of all possible transformations**, and then we decide **which transformations will more likely yield our desired product**.\n",
    "\n",
    "A list of possible transformations are all the name reactions you learn in your organic chemistry course: Grignard Reaction, Diels-Alder Cycloaddition, Aldolic condensation, etc. We then use our **chemical knowledge** to decide which of these can yield the product.\n",
    "\n",
    "Clearly here, a Grignard reaction makes sense, while a Diels-Alder doesn't. \n",
    "\n",
    "\n",
    "<img src='retro_1.png'>\n",
    "\n",
    "Now, how can a model learn this process?\n",
    "\n",
    "\n",
    "**In this notebook, we will learn how to extract a library of transformations from a reaction dataset, and then train a model to do one-step retrosynthesis.**"
   ]
  },
  {
   "cell_type": "markdown",
   "id": "af1b738a-6587-43c6-ab60-acc1f0274b82",
   "metadata": {},
   "source": [
    "# 0. Relevant packages \n",
    "\n",
    "## RDChiral\n",
    "\n",
    "RDChiral is a wrapper for RDKit's functionalities for reaction handling, that improves stereochemistry handling. This package will allow us to extract `reaction templates` from a reaction dataset, which are a standard way of encoding **transformation rules**.\n",
    "\n",
    "RDChiral then also lets us apply the `reaction template` to a target molecule, to discover the reactants that will afford the target molecule under the given transformation.\n",
    "\n",
    "Learn more from [the code](https://github.com/connorcoley/rdchiral) and [the paper](https://pubs.acs.org/doi/10.1021/acs.jcim.9b00286)."
   ]
  },
  {
   "cell_type": "markdown",
   "id": "49050f7e-6cf3-4415-9c11-7dd9d00d8b49",
   "metadata": {},
   "source": [
    "## Download data\n",
    "\n",
    "We will use a subset of the USPTO reaction dataset containing 50k reactions. This is commonly used to train and test new models for this task in the literature. "
   ]
  },
  {
   "cell_type": "code",
   "execution_count": null,
   "id": "4d61a393-bac2-44d1-86c1-8e91b6a76f67",
   "metadata": {},
   "outputs": [],
   "source": [
    "! pip install rdkit rdchiral\n",
    "! mkdir data/\n",
    "! curl -L https://www.dropbox.com/sh/6ideflxcakrak10/AADN-TNZnuGjvwZYiLk7zvwra/schneider50k -o data/uspto50k.zip\n",
    "! unzip data/uspto50k.zip -d data/\n",
    "! wget https://raw.githubusercontent.com/schwallergroup/ai4chem_course/main/notebooks/08%20-%20Retrosynthesis/utils.py"
   ]
  },
  {
   "cell_type": "code",
   "execution_count": null,
   "id": "23b7a4f2-dc6e-445f-a55c-8e98d7296cae",
   "metadata": {},
   "outputs": [],
   "source": [
    "from utils import load_data, visualize_chemical_reaction\n",
    "\n",
    "train_df, val_df, test_df = load_data()"
   ]
  },
  {
   "cell_type": "markdown",
   "id": "1cca022e-cde1-418d-b6df-1750be25a80d",
   "metadata": {},
   "source": [
    "# 1. Reaction templates\n",
    "\n",
    "Let's take as an example the following coupling reaction.\n"
   ]
  },
  {
   "cell_type": "code",
   "execution_count": null,
   "id": "959112c3-4b92-4aff-aa17-282dad4edb2b",
   "metadata": {},
   "outputs": [],
   "source": [
    "rxn_example = train_df.iloc[5,0]\n",
    "\n",
    "visualize_chemical_reaction(rxn_example)"
   ]
  },
  {
   "cell_type": "markdown",
   "id": "59ee04d1-fb5b-47e3-8a33-527eaf4b7279",
   "metadata": {},
   "source": [
    "### To extract the reaction template, use the `extract_template` function from utils.py \n",
    "\n",
    "A reaction template describes a general transformation of some type. It describes what bonds form and break in a transformation, as well as the chemical environment of these bonds."
   ]
  },
  {
   "cell_type": "code",
   "execution_count": null,
   "id": "ccaab5dd-18fc-4b01-bda3-6848a7dd9e19",
   "metadata": {},
   "outputs": [],
   "source": [
    "from utils import extract_template\n",
    "\n",
    "tplt_example = extract_template(rxn_example)\n",
    "\n",
    "# A reaction template looks like this\n",
    "print(tplt_example)"
   ]
  },
  {
   "cell_type": "markdown",
   "id": "184fbd1b-6823-46aa-a8df-e70dca252b29",
   "metadata": {},
   "source": [
    "### Now we can use this reaction template. Use the `apply_template` function from utils.py\n",
    "\n",
    "If we use it on the same product, we should get the same reactants as above."
   ]
  },
  {
   "cell_type": "code",
   "execution_count": null,
   "id": "083a4c15-08cc-4d80-9195-640f800f7dd2",
   "metadata": {},
   "outputs": [],
   "source": [
    "# Apply the extracted template to the product above.\n",
    "from utils import apply_template, visualize_mols\n",
    "\n",
    "prod_1 = rxn_example.split('>>')[1]\n",
    "pred_reactants = apply_template(tplt_example, prod_1)\n",
    "\n",
    "# This is the result of applying the template.\n",
    "visualize_mols(pred_reactants[0])"
   ]
  },
  {
   "cell_type": "markdown",
   "id": "8e67b536-1f6f-413a-ba8e-233a14a6d1ed",
   "metadata": {},
   "source": [
    "### To see how reaction templates encode a general transformation, let's now try to apply this template to a different product."
   ]
  },
  {
   "cell_type": "code",
   "execution_count": null,
   "id": "3389649a-daf7-4f30-980c-fbc07a0b2693",
   "metadata": {},
   "outputs": [],
   "source": [
    "new_prod = 'CC1=CC(C2=CN=CN2C)=CC=C1'\n",
    "# Let's try to break down this product, using the newly extracted reaction template.\n",
    "visualize_mols(new_prod)"
   ]
  },
  {
   "cell_type": "code",
   "execution_count": null,
   "id": "8fde678b-5dd1-488a-8326-7c8354e6e784",
   "metadata": {},
   "outputs": [],
   "source": [
    "new_reactants = apply_template(tplt_example, new_prod)\n",
    "visualize_mols(new_reactants[0])   "
   ]
  },
  {
   "cell_type": "markdown",
   "id": "17b3a06f-23cc-4a38-a20b-2334754fd73a",
   "metadata": {},
   "source": [
    "## We have successfully encoded a Bromo Suzuki coupling!\n",
    "\n",
    "As you can see, our reaction template can now be applied to any product, and the result of this operation are the reactants needed for this reaction to yield our product.\n",
    "You can learn more about these templates [here](https://chimia.ch/chimia/article/view/2022_294/5301).\n",
    "\n",
    "**What will happen if you try to apply the template to a product that makes no sense for this reaction type?**"
   ]
  },
  {
   "cell_type": "markdown",
   "id": "5fe73a9f-215a-40fb-9139-7eb7fd7da772",
   "metadata": {},
   "source": [
    "# 2. Building a library of reaction templates\n",
    "\n",
    "Let's now extract all possible reaction templates from our training data. With this, we can then train a model to select the best template for a given product!\n",
    "\n",
    "\n",
    "### This takes around 10 minutes."
   ]
  },
  {
   "cell_type": "code",
   "execution_count": null,
   "id": "210a97a4-06f6-47d6-8d5b-0d81714ba49d",
   "metadata": {},
   "outputs": [],
   "source": [
    "import pandas as pd\n",
    "from tqdm.notebook import tqdm\n",
    "tqdm.pandas()\n",
    "\n",
    "\n",
    "train_df['tmplt'] = train_df['reactants>reagents>production'].progress_apply(extract_template)\n",
    "val_df['tmplt'] = val_df['reactants>reagents>production'].progress_apply(extract_template)\n",
    "\n",
    "template_library = (pd.concat([train_df['tmplt'], val_df['tmplt']])\n",
    "                    .value_counts()\n",
    "                    .index\n",
    "                    .values\n",
    "                   )\n",
    "\n",
    "print(f'We have {len(template_library)} different templates!')"
   ]
  },
  {
   "cell_type": "code",
   "execution_count": null,
   "id": "c5a71b3e-8d96-497a-a111-710d82a433c6",
   "metadata": {},
   "outputs": [],
   "source": [
    "# Now assign a class number to each entry in the dataset\n",
    "import numpy as np\n",
    "\n",
    "train_df['rxn_class'] = train_df['tmplt'].progress_apply(lambda x: np.where(template_library==x)[0][0])\n",
    "val_df['rxn_class'] = val_df['tmplt'].progress_apply(lambda x: np.where(template_library==x)[0][0])"
   ]
  },
  {
   "cell_type": "markdown",
   "id": "97f8077a-a9ca-4900-9ffb-8305e351c5ca",
   "metadata": {},
   "source": [
    "# 3. Training a ML model to do retrosynthesis.\n",
    "\n",
    "We have over 11k templates, and for a given product we need to decide which one is the best. The best type of models for this type of task are classification models, and you've learnt a few of them at the beggining of the course!\n",
    "\n",
    "In this case, instead of predicting whether a molecule is toxic (2 classes), we will predict what template to use to make the molecule (>11k classes).\n",
    "\n",
    "**As you may recall, we need to get a representation of our molecule that makes it easy for models to read it. Here, let's use Morgan Fingerprints.**\n",
    "\n",
    "import `mol_smi_to_count_fp` from utils.py"
   ]
  },
  {
   "cell_type": "code",
   "execution_count": null,
   "id": "c1e19cec-7c50-4112-9f16-f9c83798bef1",
   "metadata": {},
   "outputs": [],
   "source": [
    "from utils import mol_smi_to_count_fp\n",
    "\n",
    "print('Getting FPs for training data')\n",
    "train_fps = train_df['reactants>reagents>production'].apply(lambda x: x.split('>>')[1]).progress_apply(mol_smi_to_count_fp)\n",
    "\n",
    "print('Getting FPs for validation data')\n",
    "val_fps = val_df['reactants>reagents>production'].apply(lambda x: x.split('>>')[1]).progress_apply(mol_smi_to_count_fp)\n",
    "\n",
    "print('Getting FPs for test data')\n",
    "test_fps = test_df['reactants>reagents>production'].apply(lambda x: x.split('>>')[1]).progress_apply(mol_smi_to_count_fp)"
   ]
  },
  {
   "cell_type": "markdown",
   "id": "3fc83c00-c44f-4d66-9fcd-96b79127f14e",
   "metadata": {},
   "source": [
    "# Now we can try to use ML to tackle the retrosynthesis challenge!\n",
    "### For this problem, classification models are quite appropriate, as we have a lot of classes and no idea how to assign them!"
   ]
  },
  {
   "cell_type": "code",
   "execution_count": null,
   "id": "62c0a77a-72aa-4f7e-aca9-bd86204d67f9",
   "metadata": {},
   "outputs": [],
   "source": [
    "train_fps_dense = np.asarray(np.concatenate([v.todense() for v in train_fps.values]))\n",
    "val_fps_dense = np.asarray(np.concatenate([v.todense() for v in val_fps.values]))"
   ]
  },
  {
   "cell_type": "code",
   "execution_count": null,
   "id": "27afe260-944f-42e0-bf04-67b48ec1baa4",
   "metadata": {},
   "outputs": [],
   "source": [
    "# Let's define a very simple random forest classifier\n",
    "from sklearn.ensemble import RandomForestClassifier\n",
    "\n",
    "rf_clf = RandomForestClassifier(\n",
    "    n_estimators=300,\n",
    "    max_depth=15,\n",
    "    random_state=0,\n",
    "    n_jobs=20,\n",
    "    verbose=1\n",
    ")\n",
    "\n",
    "rf_clf.fit(train_fps_dense, train_df['rxn_class'])"
   ]
  },
  {
   "cell_type": "markdown",
   "id": "f6d8188c-ad0c-4968-a53e-2aa19296a59e",
   "metadata": {},
   "source": [
    "### Testing the model\n",
    "\n",
    "There are two ways to test our model: \n",
    "- Accuracy of template prediction\n",
    "- Accuracy of precursor prediction\n",
    "\n",
    "As you will see, they can differ! **Why?**"
   ]
  },
  {
   "cell_type": "code",
   "execution_count": null,
   "id": "d0018400-76cf-40a5-8b28-612cfacff028",
   "metadata": {},
   "outputs": [],
   "source": [
    "# Let's see validation accuracy on template prediction\n",
    "\n",
    "val_preds = rf_clf.predict(val_fps_dense)\n",
    "val_acc = (val_preds == val_df['rxn_class']).mean()\n",
    "\n",
    "print(f'Validation accuracy in template prediction: {val_acc*100:.3f}%')"
   ]
  },
  {
   "cell_type": "code",
   "execution_count": null,
   "id": "f8546c11-13c7-4fda-8007-922a2b29110f",
   "metadata": {},
   "outputs": [],
   "source": [
    "# Now, accuracy on precursor prediction\n",
    "val_df['pred_tmplt_rfclf'] = template_library[val_preds]\n",
    "\n",
    "# Apply the predicted template to the product\n",
    "\n",
    "def get_precs_template(tmplt, prod):\n",
    "    pred = apply_template(\n",
    "        tmplt,\n",
    "        prod\n",
    "    )\n",
    "    if len(pred):\n",
    "        return pred[0]\n",
    "    else:\n",
    "        return 'Invalid template'\n",
    "\n",
    "    \n",
    "val_df['pred_prec'] = val_df.apply(\n",
    "    lambda x: get_precs_template(\n",
    "        x['pred_tmplt_rfclf'],\n",
    "        x['reactants>reagents>production'].split('>>')[1]\n",
    "    ),\n",
    "    axis=1\n",
    ")\n",
    "\n",
    "#from utils import canonicalize_smiles\n",
    "\n",
    "# Compare the resulting reactants\n",
    "val_df['prec_true'] = val_df['reactants>reagents>production'].apply(lambda x: canonicalize_smiles(x.split('>>')[0]))\n",
    "val_df['pred_prec'] = val_df['pred_prec'].apply(canonicalize_smiles)\n",
    "\n",
    "\n",
    "prec_acc = (val_df['pred_prec'] == val_df['prec_true']).mean()\n",
    "print(f'Precursor prediction accuracy is {prec_acc*100:.3f}%')"
   ]
  },
  {
   "cell_type": "code",
   "execution_count": null,
   "id": "aaebd096-22e4-4439-aea5-5cd438fd9e9d",
   "metadata": {},
   "outputs": [],
   "source": [
    "# Pretty low, but why?\n",
    "\n",
    "print(f'Template is invalid for {(val_df[\"pred_prec\"]!=\"\").sum()} products (out of {val_df.shape[0]}).')\n",
    "\n",
    "# Let's see accuracy when template is valid\n",
    "val_df_valid_preds = val_df[val_df['pred_prec']!='']\n",
    "\n",
    "prec_acc_valid_preds = (val_df_valid_preds['pred_prec'] == val_df_valid_preds['prec_true']).mean()\n",
    "print(f'Precursor prediction accuracy is {prec_acc_valid_preds*100:.3f}% (if we ignore invalid templates)')"
   ]
  },
  {
   "cell_type": "markdown",
   "id": "7d1d8196-fe69-4468-a71f-4038a731e451",
   "metadata": {},
   "source": [
    "# How to fix these issues?\n",
    "\n",
    "- Our current model predicts only one class. One way to mitigate this is to predict multiple classes, and return the prediction from the first valid template.\n",
    "\n",
    "- Train a better model.\n",
    "\n",
    "## The best models achieve over 55% accuracy on this dataset (see [the leaderboard](https://paperswithcode.com/sota/single-step-retrosynthesis-on-uspto-50k)). There's still a lot to improve on this simple model, try some of the things you've learnt during the course!\n",
    "---"
   ]
  },
  {
   "cell_type": "markdown",
   "id": "61820524-76cf-47a9-8d92-d0ca92b3271b",
   "metadata": {},
   "source": [
    "# 4. Let's now apply our model to make some molecule of your interest"
   ]
  },
  {
   "cell_type": "code",
   "execution_count": null,
   "id": "e23e66d2-6b28-41bb-be2c-c21de8409406",
   "metadata": {},
   "outputs": [],
   "source": [
    "def predict_precursors(product):\n",
    "    \n",
    "    fp = mol_smi_to_count_fp(product).todense()\n",
    "    logits = rf_clf.predict_proba(np.asarray(fp))\n",
    "    \n",
    "    sorted_templts = np.argsort(logits)[0][::-1]\n",
    "    for i, t in enumerate(sorted_templts):\n",
    "        template = template_library[t]\n",
    "        try:\n",
    "            prec = get_precs_template(template, product)\n",
    "        except:\n",
    "            continue\n",
    "        if prec != 'Invalid template':\n",
    "            print(f'Using {i}-th template.\\n\\n')\n",
    "            print('To make this molecule')\n",
    "            visualize_mols(product)\n",
    "            print('The RF model predicts these reactants:')\n",
    "            visualize_mols(prec)\n",
    "            return prec\n",
    "    \n",
    "\n",
    "reacts = predict_precursors('CC1=CC(C2=CN=CN2C)=CC=C1')"
   ]
  },
  {
   "cell_type": "code",
   "execution_count": null,
   "id": "6604c38a-4ed7-4cec-aa79-b597198774b4",
   "metadata": {},
   "outputs": [],
   "source": []
  }
 ],
 "metadata": {
  "kernelspec": {
   "display_name": "ai4chem",
   "language": "python",
   "name": "ai4chem"
  },
  "language_info": {
   "codemirror_mode": {
    "name": "ipython",
    "version": 3
   },
   "file_extension": ".py",
   "mimetype": "text/x-python",
   "name": "python",
   "nbconvert_exporter": "python",
   "pygments_lexer": "ipython3",
   "version": "3.8.16"
  }
 },
 "nbformat": 4,
 "nbformat_minor": 5
}
