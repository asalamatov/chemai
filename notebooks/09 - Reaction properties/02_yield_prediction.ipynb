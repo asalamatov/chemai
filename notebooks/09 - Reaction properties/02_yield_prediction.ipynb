{
 "cells": [
  {
   "cell_type": "markdown",
   "id": "fc007990-d0c3-46e3-a0ea-069fdb3fb64f",
   "metadata": {},
   "source": [
    "<a href=\"https://colab.research.google.com/github/schwallergroup/ai4chem_course/blob/main/notebooks/09%20-%20Reaction%20properties/02_yield_prediction.ipynb\" target=\"_parent\"><img src=\"https://colab.research.google.com/assets/colab-badge.svg\" alt=\"Open In Colab\"/></a>"
   ]
  },
  {
   "cell_type": "markdown",
   "id": "9485f920-99e6-441c-ac57-8eab1b722144",
   "metadata": {},
   "source": [
    "# Yield prediction\n",
    "\n"
   ]
  },
  {
   "cell_type": "markdown",
   "id": "af1b738a-6587-43c6-ab60-acc1f0274b82",
   "metadata": {},
   "source": [
    "# 0. Relevant packages \n",
    "\n",
    "## RDChiral\n",
    "\n",
    "RDChiral is a wrapper for RDKit's functionalities for reaction handling, that improves stereochemistry handling. This package will allow us to extract `reaction templates` from a reaction dataset, which are a standard way of encoding **transformation rules**.\n",
    "\n",
    "RDChiral then also lets us apply the `reaction template` to a target molecule, to discover the reactants that will afford the target molecule under the given transformation.\n",
    "\n",
    "Learn more from [the code](https://github.com/connorcoley/rdchiral) and [the paper](https://pubs.acs.org/doi/10.1021/acs.jcim.9b00286)."
   ]
  },
  {
   "cell_type": "markdown",
   "id": "c9c730ab-dc08-48f3-9f6b-e2eecb2ae043",
   "metadata": {},
   "source": [
    "# 1. Obtaining the atom mapping\n",
    "\n",
    "To obtain the atom mapping of a reaction, you can go to [this site](http://rxnmapper.ai/demo.html) and paste your reaction SMILES. The application will then show you the mapped reaction smiles, as well as some visualization options, including:\n",
    "\n",
    "- The atom mapping of the reaction: which atoms in the reactants correspond to each atom in the products.\n",
    "\n",
    "- The attention maps: What the underlying model is computing, that is the conection between each pair of tokens.\n",
    "\n",
    "\n",
    "![image.png](rxnmapper.png)\n",
    "\n",
    "\n",
    "## NOTE: This model is also accessible through a programming interface. For this, follow the instructions [here](https://github.com/rxn4chemistry/rxnmapper)."
   ]
  },
  {
   "cell_type": "markdown",
   "id": "84ddc96d-e5c9-45fc-bfa0-edd21d93df9e",
   "metadata": {},
   "source": [
    "# TODO:\n",
    "\n",
    "- [ ] Get a reaction and mapped rxn\n",
    "- [ ] Get dataset of molecules\n",
    "- [ ] Obtain possible reactant sets\n",
    "- [ ] Get all reactant sets that can react like this, visualize"
   ]
  },
  {
   "cell_type": "code",
   "execution_count": null,
   "id": "b1872747-9717-4653-9809-ee9e4ea6618f",
   "metadata": {},
   "outputs": [],
   "source": [
    "import pandas as pd\n",
    "\n",
    "df = pd.read_csv"
   ]
  },
  {
   "cell_type": "code",
   "execution_count": null,
   "id": "68beb695-ec85-49ca-bd50-f44bc0d9744a",
   "metadata": {},
   "outputs": [],
   "source": []
  },
  {
   "cell_type": "code",
   "execution_count": null,
   "id": "5eaed80d-bbd7-4d1f-a5bb-4dfa81c7ade2",
   "metadata": {},
   "outputs": [],
   "source": []
  },
  {
   "cell_type": "code",
   "execution_count": null,
   "id": "4d61a393-bac2-44d1-86c1-8e91b6a76f67",
   "metadata": {},
   "outputs": [
    {
     "name": "stdout",
     "output_type": "stream",
     "text": [
      "  % Total    % Received % Xferd  Average Speed   Time    Time     Time  Current\n",
      "                                 Dload  Upload   Total   Spent    Left  Speed\n",
      "100    17    0    17    0     0      8      0 --:--:--  0:00:02 --:--:--     8\n",
      "100   276  100   276    0     0     94      0  0:00:02  0:00:02 --:--:--     0\n",
      "  0     0    0     0    0     0      0      0 --:--:--  0:00:21 --:--:--     0"
     ]
    }
   ],
   "source": [
    "#! pip install rdkit rdchiral\n",
    "! mkdir data/\n",
    "! curl -L https://www.dropbox.com/sh/6ideflxcakrak10/AADN-TNZnuGjvwZYiLk7zvwra/schneider50k -o data/uspto50k.zip\n",
    "! unzip data/uspto50k.zip -d data/"
   ]
  },
  {
   "cell_type": "code",
   "execution_count": null,
   "id": "23b7a4f2-dc6e-445f-a55c-8e98d7296cae",
   "metadata": {},
   "outputs": [],
   "source": [
    "from utils import load_data, visualize_chemical_reaction\n",
    "\n",
    "train_df, val_df, test_df = load_data()"
   ]
  },
  {
   "cell_type": "markdown",
   "id": "1cca022e-cde1-418d-b6df-1750be25a80d",
   "metadata": {},
   "source": [
    "# 1. Reaction templates\n",
    "\n",
    "Let's take as an example the following coupling reaction.\n"
   ]
  },
  {
   "cell_type": "code",
   "execution_count": null,
   "id": "959112c3-4b92-4aff-aa17-282dad4edb2b",
   "metadata": {},
   "outputs": [],
   "source": [
    "rxn_example = train_df.iloc[5,0]\n",
    "\n",
    "visualize_chemical_reaction(rxn_example)"
   ]
  },
  {
   "cell_type": "markdown",
   "id": "59ee04d1-fb5b-47e3-8a33-527eaf4b7279",
   "metadata": {},
   "source": [
    "### To extract the reaction template, use the `extract_template` function from utils.py \n",
    "\n",
    "A reaction template describes a general transformation of some type. It describes what bonds form and break in a transformation, as well as the chemical environment of these bonds."
   ]
  },
  {
   "cell_type": "code",
   "execution_count": null,
   "id": "ccaab5dd-18fc-4b01-bda3-6848a7dd9e19",
   "metadata": {},
   "outputs": [],
   "source": [
    "from utils import extract_template\n",
    "\n",
    "tplt_example = extract_template(rxn_example)\n",
    "\n",
    "# A reaction template looks like this\n",
    "print(tplt_example)"
   ]
  },
  {
   "cell_type": "markdown",
   "id": "184fbd1b-6823-46aa-a8df-e70dca252b29",
   "metadata": {},
   "source": [
    "### Now we can use this reaction template. Use the `apply_template` function from utils.py\n",
    "\n",
    "If we use it on the same product, we should get the same reactants as above."
   ]
  },
  {
   "cell_type": "code",
   "execution_count": null,
   "id": "083a4c15-08cc-4d80-9195-640f800f7dd2",
   "metadata": {},
   "outputs": [],
   "source": [
    "# Apply the extracted template to the product above.\n",
    "from utils import apply_template, visualize_mols\n",
    "\n",
    "prod_1 = rxn_example.split('>>')[1]\n",
    "pred_reactants = apply_template(tplt_example, prod_1)\n",
    "\n",
    "# This is the result of applying the template.\n",
    "visualize_mols(pred_reactants[0])"
   ]
  }
 ],
 "metadata": {
  "kernelspec": {
   "display_name": "ai4chem",
   "language": "python",
   "name": "ai4chem"
  },
  "language_info": {
   "codemirror_mode": {
    "name": "ipython",
    "version": 3
   },
   "file_extension": ".py",
   "mimetype": "text/x-python",
   "name": "python",
   "nbconvert_exporter": "python",
   "pygments_lexer": "ipython3",
   "version": "3.8.16"
  }
 },
 "nbformat": 4,
 "nbformat_minor": 5
}
