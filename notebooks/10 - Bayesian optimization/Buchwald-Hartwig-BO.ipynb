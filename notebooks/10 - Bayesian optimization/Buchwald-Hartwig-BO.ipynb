{
 "cells": [
  {
   "attachments": {},
   "cell_type": "markdown",
   "metadata": {},
   "source": [
    "<a href=\"https://colab.research.google.com/github/schwallergroup/ai4chem_course/blob/main/notebooks/10%20-%20Bayesian%20optimization/Buchwald-Hartwig-BO.ipynb\" target=\"_parent\"><img src=\"https://colab.research.google.com/assets/colab-badge.svg\" alt=\"Open In Colab\"/></a>\n"
   ]
  },
  {
   "cell_type": "code",
   "execution_count": null,
   "metadata": {},
   "outputs": [],
   "source": [
    "!pip install scikit-learn-extra pytorch_lightning transformers botorch gpytorch rdkit \n",
    "!pip install --no-deps rxnfp\n",
    "!pip install --no-deps drfp\n"
   ]
  },
  {
   "cell_type": "code",
   "execution_count": null,
   "metadata": {},
   "outputs": [],
   "source": [
    "!wget https://raw.githubusercontent.com/schwallergroup/ai4chem_course/main/notebooks/10%20-%20Bayesian%20optimization/bh-reactions.csv -O bh-reactions.csv\n",
    "!wget https://raw.githubusercontent.com/schwallergroup/ai4chem_course/main/notebooks/10%20-%20Bayesian%20optimization/base_fingerprint_kernel.py -O base_fingerprint_kernel.py\n",
    "!wget https://raw.githubusercontent.com/schwallergroup/ai4chem_course/main/notebooks/10%20-%20Bayesian%20optimization/tanimoto_kernel.py -O tanimoto_kernel.py\n",
    "!wget https://raw.githubusercontent.com/schwallergroup/ai4chem_course/main/notebooks/10%20-%20Bayesian%20optimization/utils.py -O utils.py"
   ]
  },
  {
   "attachments": {},
   "cell_type": "markdown",
   "metadata": {},
   "source": [
    "# Introduction\n",
    "\n",
    "In this notebook, we will be optimizing chemical reactions to maximize the yield. Our focus is on Buchwald-Hartwig cross-coupling reactions, a powerful synthetic method widely used in organic chemistry for the formation of carbon-nitrogen bonds. The yield of these reactions depends on several parameters, including the choice of ligand, base, additive, and aryl halide, making the optimization a high-dimensional complex problem.\n",
    "\n",
    "Our dataset consists of five different reactions covering around 790 unique combinations of these parameters, providing a rich source of data for our optimization task. However, the high dimensionality of this problem makes traditional optimization methods inefficient or even infeasible (unless we have access to expensive high-throughput equipment).\n",
    "\n",
    "To tackle this challenge, we turn to Bayesian Optimization (BO), a powerful tool for the global optimization of black-box functions. Unlike traditional optimization methods that may require exhaustive search or expensive high-throughput equipment, BO provides a principled, data-efficient approach to navigating the parameter space. This makes it particularly suitable for optimizing chemical reactions, where experimental evaluations are costly and time-consuming.\n",
    "\n",
    "We will demonstrate the efficiency of Bayesian Optimization on the Buchwald-Hartwig dataset by comparing its performance against a baseline random search method. BO can significantly reduce the time and steps needed to reach the optimal combination of parameters, therefore maximizing yield in a data-efficient manner.\n"
   ]
  },
  {
   "cell_type": "code",
   "execution_count": 3,
   "metadata": {},
   "outputs": [],
   "source": [
    "import pandas as pd\n",
    "import torch"
   ]
  },
  {
   "attachments": {},
   "cell_type": "markdown",
   "metadata": {},
   "source": [
    "# Data loading"
   ]
  },
  {
   "cell_type": "code",
   "execution_count": 4,
   "metadata": {},
   "outputs": [],
   "source": [
    "data = pd.read_csv('bh-reactions.csv')"
   ]
  },
  {
   "cell_type": "code",
   "execution_count": 5,
   "metadata": {},
   "outputs": [
    {
     "data": {
      "text/html": [
       "<div>\n",
       "<style scoped>\n",
       "    .dataframe tbody tr th:only-of-type {\n",
       "        vertical-align: middle;\n",
       "    }\n",
       "\n",
       "    .dataframe tbody tr th {\n",
       "        vertical-align: top;\n",
       "    }\n",
       "\n",
       "    .dataframe thead th {\n",
       "        text-align: right;\n",
       "    }\n",
       "</style>\n",
       "<table border=\"1\" class=\"dataframe\">\n",
       "  <thead>\n",
       "    <tr style=\"text-align: right;\">\n",
       "      <th></th>\n",
       "      <th>reaction</th>\n",
       "      <th>ligand</th>\n",
       "      <th>additive</th>\n",
       "      <th>base</th>\n",
       "      <th>aryl halide</th>\n",
       "      <th>product</th>\n",
       "      <th>rxn</th>\n",
       "      <th>yield</th>\n",
       "    </tr>\n",
       "  </thead>\n",
       "  <tbody>\n",
       "    <tr>\n",
       "      <th>0</th>\n",
       "      <td>0</td>\n",
       "      <td>CC(C)C(C=C(C(C)C)C=C1C(C)C)=C1C2=C(P(C(C)(C)C)...</td>\n",
       "      <td>C1(N(CC2=CC=CC=C2)CC3=CC=CC=C3)=CC=NO1</td>\n",
       "      <td>CN(C)P(N(C)C)(N(C)C)=NP(N(C)C)(N(C)C)=NCC</td>\n",
       "      <td>IC1=CC=C(CC)C=C1</td>\n",
       "      <td>CCc1ccc(Nc2ccc(C)cc2)cc1</td>\n",
       "      <td>CCc1ccc(I)cc1.Cc1ccc(N)cc1.O=S(=O)(O[Pd]1c2ccc...</td>\n",
       "      <td>21.400068</td>\n",
       "    </tr>\n",
       "    <tr>\n",
       "      <th>1</th>\n",
       "      <td>0</td>\n",
       "      <td>CC(C)C(C=C(C(C)C)C=C1C(C)C)=C1C2=C(P(C3CCCCC3)...</td>\n",
       "      <td>CC1=NOC=C1</td>\n",
       "      <td>CN1CCCN2C1=NCCC2</td>\n",
       "      <td>ClC1=CC=C(CC)C=C1</td>\n",
       "      <td>CCc1ccc(Nc2ccc(C)cc2)cc1</td>\n",
       "      <td>CCc1ccc(Cl)cc1.Cc1ccc(N)cc1.O=S(=O)(O[Pd]1c2cc...</td>\n",
       "      <td>1.922792</td>\n",
       "    </tr>\n",
       "    <tr>\n",
       "      <th>2</th>\n",
       "      <td>0</td>\n",
       "      <td>CC(C)C(C=C(C(C)C)C=C1C(C)C)=C1C2=C(P(C(C)(C)C)...</td>\n",
       "      <td>O=C(OC)C1=CC=NO1</td>\n",
       "      <td>CN(C)P(N(C)C)(N(C)C)=NP(N(C)C)(N(C)C)=NCC</td>\n",
       "      <td>BrC1=CC=C(CC)C=C1</td>\n",
       "      <td>CCc1ccc(Nc2ccc(C)cc2)cc1</td>\n",
       "      <td>CCc1ccc(Br)cc1.Cc1ccc(N)cc1.O=S(=O)(O[Pd]1c2cc...</td>\n",
       "      <td>15.673040</td>\n",
       "    </tr>\n",
       "    <tr>\n",
       "      <th>3</th>\n",
       "      <td>0</td>\n",
       "      <td>CC(C)C(C=C(C(C)C)C=C1C(C)C)=C1C2=C(P([C@@]3(C[...</td>\n",
       "      <td>CC1=CC=NO1</td>\n",
       "      <td>CN1CCCN2C1=NCCC2</td>\n",
       "      <td>IC1=CC=C(CC)C=C1</td>\n",
       "      <td>CCc1ccc(Nc2ccc(C)cc2)cc1</td>\n",
       "      <td>CCc1ccc(I)cc1.Cc1ccc(N)cc1.O=S(=O)(O[Pd]1c2ccc...</td>\n",
       "      <td>76.225051</td>\n",
       "    </tr>\n",
       "    <tr>\n",
       "      <th>4</th>\n",
       "      <td>0</td>\n",
       "      <td>CC(C)C(C=C(C(C)C)C=C1C(C)C)=C1C2=C(P(C3CCCCC3)...</td>\n",
       "      <td>C1(C2=CC=CC=C2)=CON=C1</td>\n",
       "      <td>CN(C)P(N(C)C)(N(C)C)=NP(N(C)C)(N(C)C)=NCC</td>\n",
       "      <td>IC1=CC=C(CC)C=C1</td>\n",
       "      <td>CCc1ccc(Nc2ccc(C)cc2)cc1</td>\n",
       "      <td>CCc1ccc(I)cc1.Cc1ccc(N)cc1.O=S(=O)(O[Pd]1c2ccc...</td>\n",
       "      <td>15.011788</td>\n",
       "    </tr>\n",
       "  </tbody>\n",
       "</table>\n",
       "</div>"
      ],
      "text/plain": [
       "   reaction                                             ligand  \\\n",
       "0         0  CC(C)C(C=C(C(C)C)C=C1C(C)C)=C1C2=C(P(C(C)(C)C)...   \n",
       "1         0  CC(C)C(C=C(C(C)C)C=C1C(C)C)=C1C2=C(P(C3CCCCC3)...   \n",
       "2         0  CC(C)C(C=C(C(C)C)C=C1C(C)C)=C1C2=C(P(C(C)(C)C)...   \n",
       "3         0  CC(C)C(C=C(C(C)C)C=C1C(C)C)=C1C2=C(P([C@@]3(C[...   \n",
       "4         0  CC(C)C(C=C(C(C)C)C=C1C(C)C)=C1C2=C(P(C3CCCCC3)...   \n",
       "\n",
       "                                 additive  \\\n",
       "0  C1(N(CC2=CC=CC=C2)CC3=CC=CC=C3)=CC=NO1   \n",
       "1                              CC1=NOC=C1   \n",
       "2                        O=C(OC)C1=CC=NO1   \n",
       "3                              CC1=CC=NO1   \n",
       "4                  C1(C2=CC=CC=C2)=CON=C1   \n",
       "\n",
       "                                        base        aryl halide  \\\n",
       "0  CN(C)P(N(C)C)(N(C)C)=NP(N(C)C)(N(C)C)=NCC   IC1=CC=C(CC)C=C1   \n",
       "1                           CN1CCCN2C1=NCCC2  ClC1=CC=C(CC)C=C1   \n",
       "2  CN(C)P(N(C)C)(N(C)C)=NP(N(C)C)(N(C)C)=NCC  BrC1=CC=C(CC)C=C1   \n",
       "3                           CN1CCCN2C1=NCCC2   IC1=CC=C(CC)C=C1   \n",
       "4  CN(C)P(N(C)C)(N(C)C)=NP(N(C)C)(N(C)C)=NCC   IC1=CC=C(CC)C=C1   \n",
       "\n",
       "                    product  \\\n",
       "0  CCc1ccc(Nc2ccc(C)cc2)cc1   \n",
       "1  CCc1ccc(Nc2ccc(C)cc2)cc1   \n",
       "2  CCc1ccc(Nc2ccc(C)cc2)cc1   \n",
       "3  CCc1ccc(Nc2ccc(C)cc2)cc1   \n",
       "4  CCc1ccc(Nc2ccc(C)cc2)cc1   \n",
       "\n",
       "                                                 rxn      yield  \n",
       "0  CCc1ccc(I)cc1.Cc1ccc(N)cc1.O=S(=O)(O[Pd]1c2ccc...  21.400068  \n",
       "1  CCc1ccc(Cl)cc1.Cc1ccc(N)cc1.O=S(=O)(O[Pd]1c2cc...   1.922792  \n",
       "2  CCc1ccc(Br)cc1.Cc1ccc(N)cc1.O=S(=O)(O[Pd]1c2cc...  15.673040  \n",
       "3  CCc1ccc(I)cc1.Cc1ccc(N)cc1.O=S(=O)(O[Pd]1c2ccc...  76.225051  \n",
       "4  CCc1ccc(I)cc1.Cc1ccc(N)cc1.O=S(=O)(O[Pd]1c2ccc...  15.011788  "
      ]
     },
     "execution_count": 5,
     "metadata": {},
     "output_type": "execute_result"
    }
   ],
   "source": [
    "data.head()"
   ]
  },
  {
   "cell_type": "code",
   "execution_count": 6,
   "metadata": {},
   "outputs": [
    {
     "data": {
      "text/plain": [
       "5"
      ]
     },
     "execution_count": 6,
     "metadata": {},
     "output_type": "execute_result"
    }
   ],
   "source": [
    "len(data['reaction'].unique())\n"
   ]
  },
  {
   "attachments": {},
   "cell_type": "markdown",
   "metadata": {},
   "source": [
    "Can you check the size of the search space for each of the reactions? The design space is built as a product of the number of different parameters. So if we have to test 3 ligands and 5 bases, the search space would be 15 combinations of ligands and bases. \n",
    "\n",
    "*Hint*: we already mention the size of the search space for each reaction in the introduction part. Try to uncover that number directly from the data. "
   ]
  },
  {
   "cell_type": "code",
   "execution_count": null,
   "metadata": {},
   "outputs": [],
   "source": [
    "total_combinations = "
   ]
  },
  {
   "attachments": {},
   "cell_type": "markdown",
   "metadata": {},
   "source": [
    "# Data featurization\n",
    "\n",
    "To use Bayesian Optimization, we need to transform our raw data into a form that can be processed by our machine learning models through the process of data featurization. We can choose from several methods of featurization for chemical reactions, each with its own trade-offs in terms of computational cost and predictive accuracy.\n",
    "\n",
    "Density Functional Theory (DFT) is a popular method to represent chemical reactions. It is a computational technique used in physics and chemistry to investigate the electronic structure (principally the ground state) of many-body systems, in particular atoms, molecules, and the condensed phases. DFT calculations are highly accurate and can provide a wealth of information about the system, but they are also computationally expensive.\n",
    "\n",
    "For faster and more efficient featurization, we can use fingerprinting methods. These methods transform the chemical structure into a fixed-length numerical vector (or \"fingerprint\") that captures the key features of the structure. There are different types of fingerprints, each capturing different aspects of the chemical structure.\n",
    "\n",
    "One-Hot Encoding (OHE): OHE is a simple and fast method of featurization that can be used when the data consists of a finite set of discrete values (like categories). Each category is mapped to a vector that contains 1 in the position corresponding to the category and 0 in all other positions. OHE is computationally efficient and easy to use, but it doesn't capture any relationships between the categories.\n",
    "\n",
    "DRFP (Differential Reaction Fingerprint): The DRFP algorithm takes a reaction represented in the SMILES format as input and generates a binary fingerprint. The fingerprint is based on the symmetric difference of two sets, each containing the circular molecular n-grams generated from the molecules listed on the left and right of the reaction arrow, respectively. Importantly, DRFP does not need to distinguish between reactants and reagents.\n",
    "\n",
    "RXNFP (Reaction Fingerprint): RXNFP is a continuous, data-driven representation of chemical reactions derived from deep neural networks, specifically transformer models, trained for the task of reaction classification. As a fully data-driven method, RXNFP is adaptable and can provide a robust representation of different reactions. This adaptability, combined with the high performance of deep neural networks, enables RXNFP to efficiently represent the complex relationships between molecular structures and their reactivity, making it a strong candidate for use in Bayesian Optimization.\n",
    "\n",
    "We will compare the performance of these different featurization methods in the context of Bayesian Optimization."
   ]
  },
  {
   "attachments": {},
   "cell_type": "markdown",
   "metadata": {},
   "source": [
    "## OHE\n"
   ]
  },
  {
   "cell_type": "code",
   "execution_count": 7,
   "metadata": {},
   "outputs": [
    {
     "data": {
      "text/plain": [
       "(790, 32)"
      ]
     },
     "execution_count": 7,
     "metadata": {},
     "output_type": "execute_result"
    }
   ],
   "source": [
    "from utils import one_hot\n",
    "\n",
    "ohe_features = one_hot(data[data['reaction']==0][['ligand','additive', 'base', 'aryl halide']])\n",
    "ohe_features.shape"
   ]
  },
  {
   "cell_type": "markdown",
   "metadata": {},
   "source": [
    "## DRFP"
   ]
  },
  {
   "cell_type": "code",
   "execution_count": 22,
   "metadata": {},
   "outputs": [
    {
     "data": {
      "text/plain": [
       "(790, 2048)"
      ]
     },
     "execution_count": 22,
     "metadata": {},
     "output_type": "execute_result"
    }
   ],
   "source": [
    "from utils import drfp\n",
    "\n",
    "drfp_features = drfp(data[data['reaction']==0]['rxn'])\n",
    "drfp_features.shape"
   ]
  },
  {
   "cell_type": "markdown",
   "metadata": {},
   "source": [
    "## RXNFP"
   ]
  },
  {
   "cell_type": "code",
   "execution_count": 21,
   "metadata": {},
   "outputs": [
    {
     "data": {
      "text/plain": [
       "(790, 256)"
      ]
     },
     "execution_count": 21,
     "metadata": {},
     "output_type": "execute_result"
    }
   ],
   "source": [
    "from utils import rxnfp \n",
    "\n",
    "rxnfp_features = rxnfp(data[data['reaction']==0]['rxn'])\n",
    "rxnfp_features.shape"
   ]
  },
  {
   "attachments": {},
   "cell_type": "markdown",
   "metadata": {},
   "source": [
    "# Data selection\n",
    "\n",
    "Because we have to start from somewhere. 🤷 \n",
    "\n",
    "While the full search space size can be overwhelming, we need to start from a small subset of all the possible combinations and start our BO search using some initial data. The way we select the initial data can also contribute highly to the overall success of the search campaign. So it's better not to select the data randomly. There are techniques, like clustering and maximin strategy (starting from one random point in the space and selecting the rest of the set so that it maximizes the minimum distance between all the points in the selected set) that can help us select diverse initial sample set. "
   ]
  },
  {
   "cell_type": "code",
   "execution_count": 9,
   "metadata": {},
   "outputs": [],
   "source": [
    "import torch\n",
    "from sklearn.cluster import KMeans\n",
    "from sklearn_extra.cluster import KMedoids\n",
    "from sklearn.preprocessing import StandardScaler\n",
    "from scipy.spatial.distance import cdist\n",
    "\n",
    "class BOInitData:\n",
    "    def __init__(self, \n",
    "                 n: int = 10, \n",
    "                 method: str = 'random',\n",
    "                 metric: str = 'jaccard', \n",
    "                 cluster_init: str = 'random', \n",
    "                 seed: int = 42):\n",
    "        self.n = n\n",
    "        self.method = method\n",
    "        self.seed = seed\n",
    "        self.metric = metric\n",
    "        self.cluster_init = cluster_init\n",
    "\n",
    "        self.method_map = {\n",
    "            'kmedoids': self.kmedoids,\n",
    "            'kmeans': self.kmeans,\n",
    "            'max_min_dist': self.max_min_dist,\n",
    "            'random': self.random,\n",
    "        }\n",
    "    \n",
    "    def fit(self, x):\n",
    "        init_method = self.method_map.get(self.method)\n",
    "        if init_method is None:\n",
    "            raise ValueError(f\"Unrecognized initialization method '{self.method}'\")\n",
    "        return init_method(x)\n",
    "\n",
    "    def kmedoids(self, x):\n",
    "        kmedoids = KMedoids(\n",
    "            n_clusters=self.n,\n",
    "            init=self.cluster_init,\n",
    "            random_state=self.seed,\n",
    "            metric=self.metric,\n",
    "            max_iter=5000,\n",
    "        ).fit(x)\n",
    "        selected = torch.tensor(kmedoids.medoid_indices_.tolist())\n",
    "        return selected\n",
    "\n",
    "    def kmeans(self, x):\n",
    "        scaler = StandardScaler()\n",
    "        x_init_normalized = scaler.fit_transform(x)\n",
    "        kmeans = KMeans(\n",
    "            n_clusters=self.n,\n",
    "            init=self.cluster_init,\n",
    "            random_state=self.seed,\n",
    "            max_iter=5000,\n",
    "        ).fit(x_init_normalized)\n",
    "        centroids = torch.tensor(kmeans.cluster_centers_)\n",
    "        selected = torch.argmin(torch.norm(torch.from_numpy(x).unsqueeze(1) - centroids, dim=2), dim=0)\n",
    "        return selected\n",
    "\n",
    "    def max_min_dist(self, x):\n",
    "        distances = cdist(x, x, metric=self.metric)\n",
    "        selected = torch.tensor([torch.randint(0, distances.shape[0], (1,))])\n",
    "        for i in range(self.n - 1):\n",
    "            coverage = torch.min(torch.tensor(distances)[:, selected], axis=1)\n",
    "            selected = torch.cat([selected, coverage.argmax().unsqueeze(0)])\n",
    "        return selected\n",
    "\n",
    "    def random(self, x):\n",
    "        selected = torch.randperm(len(x))[: self.n]\n",
    "        return selected\n"
   ]
  },
  {
   "cell_type": "code",
   "execution_count": 10,
   "metadata": {},
   "outputs": [],
   "source": [
    "bo_init_data = BOInitData(method='max_min_dist', metric='jaccard')\n"
   ]
  },
  {
   "attachments": {},
   "cell_type": "markdown",
   "metadata": {},
   "source": [
    "## DataModule \n",
    "\n",
    "Now let's put all these things together in a DataModule. "
   ]
  },
  {
   "cell_type": "code",
   "execution_count": 16,
   "metadata": {},
   "outputs": [],
   "source": [
    "import pytorch_lightning as pl\n",
    "import torch \n",
    "from typing import Optional\n",
    "import numpy as np\n",
    "from torch.utils.data import DataLoader, TensorDataset\n",
    "\n",
    "class BODataModule(pl.LightningDataModule):\n",
    "    def __init__(self, dataset: str = \"buchwald-hartwig\",\n",
    "        data_path: str = \"bh-reactions.csv\",\n",
    "        reaction: int = 0,\n",
    "        representation: str = \"drfp\",\n",
    "        feature_dimension: int = 2048,\n",
    "        bond_radius: int = 3,\n",
    "        init_data: BOInitData = BOInitData(),\n",
    "    ):\n",
    "        super().__init__()\n",
    "        self.dataset = dataset\n",
    "        self.data_path = data_path\n",
    "        self.reaction = reaction\n",
    "        self.representation = representation\n",
    "        self.feature_dimension = feature_dimension\n",
    "        self.bond_radius = bond_radius\n",
    "        self.init_data = init_data\n",
    "        self.setup()\n",
    "\n",
    "    def featurize(self):\n",
    "        if self.representation == \"ohe\":\n",
    "            self.x = one_hot(self.data[['ligand','additive',\t'base',\t'aryl halide']])\n",
    "        elif self.representation == \"drfp\":\n",
    "            self.x = drfp(self.data['rxn'])\n",
    "        elif self.representation == \"rxnfp\":\n",
    "            self.x = rxnfp(self.data['rxn'])\n",
    "        \n",
    "        self.y = self.data['yield'].values.reshape(-1, 1)\n",
    "\n",
    "    def setup(self, stage: Optional[str] = None) -> None:\n",
    "        self.data = pd.read_csv(self.data_path)\n",
    "        self.data = data[self.data['reaction'] == self.reaction]\n",
    "        self.featurize()\n",
    "        \n",
    "        init_indices = self.init_data.fit(self.x)\n",
    "        self.train_test_split(init_indices)\n",
    "        \n",
    "    def train_test_split(self, init_indices):\n",
    "        self.train_x = torch.from_numpy(self.x[init_indices]).to(torch.float64)\n",
    "        self.train_y = torch.from_numpy(self.y[init_indices]).to(torch.float64)\n",
    "\n",
    "        # Create a boolean mask to select the remaining indices\n",
    "        heldout_mask = torch.ones(len(self.x), dtype=torch.bool)\n",
    "        heldout_mask[init_indices] = False\n",
    "\n",
    "        self.heldout_x = torch.from_numpy(self.x[heldout_mask]).to(torch.float64)\n",
    "        self.heldout_y = torch.from_numpy(self.y[heldout_mask]).to(torch.float64)\n",
    "\n",
    "    def train_dataloader(self):\n",
    "        train_dataset = TensorDataset(self.features[self.train_data.index], self.train_data['yield'])\n",
    "        return DataLoader(train_dataset, batch_size=len(self.train_data))\n",
    "\n",
    "    def heldout_dataloader(self):\n",
    "        heldout_dataset = TensorDataset(self.features[self.heldout_data.index], self.heldout_data['yield'])\n",
    "        return DataLoader(heldout_dataset, batch_size=len(self.heldout_data))\n",
    "\n",
    "    "
   ]
  },
  {
   "cell_type": "code",
   "execution_count": 17,
   "metadata": {},
   "outputs": [],
   "source": [
    "dm = BODataModule(representation='ohe')"
   ]
  },
  {
   "cell_type": "code",
   "execution_count": 18,
   "metadata": {},
   "outputs": [
    {
     "data": {
      "text/plain": [
       "torch.Size([10, 32])"
      ]
     },
     "execution_count": 18,
     "metadata": {},
     "output_type": "execute_result"
    }
   ],
   "source": [
    "dm.train_x.shape"
   ]
  },
  {
   "attachments": {},
   "cell_type": "markdown",
   "metadata": {},
   "source": [
    "## Surrogate Model\n",
    "\n",
    "Next we need a strong surrogate model to help us find patterns and provide an informative overview of the underlying function that describes our data. We use Botorch library and build a Gaussian Process surrogate model. It requires training data and the kernel which we can use from gpytorch or gauche libraries. "
   ]
  },
  {
   "cell_type": "code",
   "execution_count": 19,
   "metadata": {},
   "outputs": [],
   "source": [
    "from botorch.models.gp_regression import SingleTaskGP\n",
    "from gpytorch.kernels import Kernel, ScaleKernel\n",
    "from botorch.models.transforms.outcome import Standardize\n",
    "from botorch.models.transforms.input import Normalize\n",
    "from tanimoto_kernel import TanimotoKernel\n",
    "\n",
    "class GP(SingleTaskGP):\n",
    "    def __init__(\n",
    "        self,\n",
    "        train_x: torch.Tensor,\n",
    "        train_y: torch.Tensor,\n",
    "        kernel: Kernel = None,\n",
    "        standardize: bool = True,\n",
    "        normalize: bool = False,\n",
    "    ):\n",
    "        self._set_dimensions(train_X=train_x, train_Y=train_y)\n",
    "\n",
    "        super().__init__(\n",
    "            train_x,\n",
    "            train_y,\n",
    "            covar_module=ScaleKernel(base_kernel=kernel),\n",
    "            outcome_transform=Standardize(train_y.shape[-1]) if standardize else None,\n",
    "            input_transform=Normalize(train_x.shape[-1]) if normalize else None,\n",
    "        )\n",
    "       \n",
    "        self.kernel = kernel\n",
    "        self.standardize = standardize\n",
    "        self.normalize = normalize\n",
    "\n",
    "    def reinit(self, train_x, train_y):\n",
    "        return GP(\n",
    "            train_x,\n",
    "            train_y,\n",
    "            self.kernel,\n",
    "            self.standardize,\n",
    "            self.normalize,\n",
    "        )\n"
   ]
  },
  {
   "attachments": {},
   "cell_type": "markdown",
   "metadata": {},
   "source": [
    "# BO\n",
    "\n",
    "Finally we'll optimize our reactions using Bayesian optimization and compare it to random search. The procedure includes:\n",
    "1. selecting some initial data points to train the surrogate model (in code: ```init_data=BOInitData(method='random', metric='jaccard', cluster_init='k-means++', seed=seed)```)\n",
    "2. generating some suggestions from the trained surrogate model and acquisition function (in code: ```best_candidate = heldout_x[best_candidate_idx]```)\n",
    "3. evaluating these suggestions (in real-life scenario this means running the proposed experiment in the lab; in our case it means reading the *yield* value from our dataset)\n",
    "4. adding a new training point to the training dataset (removing the same point from the heldout set) (\n",
    "        \n",
    "        train_x = torch.vstack([train_x, heldout_x[idx]])\n",
    "        train_y = torch.vstack([train_y, heldout_y[idx]])\n",
    "        heldout_x = torch.cat([heldout_x[:best_candidate_idx], heldout_x[best_candidate_idx+1:]])\n",
    "        heldout_y = torch.cat([heldout_y[:best_candidate_idx], heldout_y[best_candidate_idx+1:]]))\n",
    "5. retraining the model and repeating actions from 2. on.\n"
   ]
  },
  {
   "cell_type": "code",
   "execution_count": null,
   "metadata": {},
   "outputs": [],
   "source": [
    "import gpytorch\n",
    "from gpytorch import ExactMarginalLogLikelihood\n",
    "from botorch import fit_gpytorch_mll\n",
    "from pytorch_lightning import seed_everything\n",
    "from botorch.acquisition import UpperConfidenceBound\n",
    "\n",
    "def run_bo(dm):\n",
    "    train_x, train_y = dm.train_x, dm.train_y\n",
    "    heldout_x, heldout_y = dm.heldout_x, dm.heldout_y\n",
    "    num_iterations = 30\n",
    "    gp = GP(train_x, train_y, kernel=TanimotoKernel())\n",
    "    gp.double()\n",
    "    mll = ExactMarginalLogLikelihood(gp.likelihood, gp)\n",
    "    \n",
    "    best_value = train_y.max().item()\n",
    "    best_values = [best_value]\n",
    "    for i in range(num_iterations):\n",
    "        with gpytorch.settings.fast_computations(covar_root_decomposition=False):\n",
    "            fit_gpytorch_mll(mll, max_retries=50)\n",
    "\n",
    "        acq_func = UpperConfidenceBound(gp, beta=0.25)\n",
    "        acq_values = acq_func(heldout_x.unsqueeze(-2))\n",
    "        best_candidate_idx = acq_values.view(-1).argmax()\n",
    "        best_candidate = heldout_x[best_candidate_idx]\n",
    "        train_x = torch.vstack([train_x, best_candidate])\n",
    "        train_y = torch.vstack([train_y, heldout_y[best_candidate_idx]])\n",
    "        heldout_x = torch.cat([heldout_x[:best_candidate_idx], heldout_x[best_candidate_idx+1:]])\n",
    "        heldout_y = torch.cat([heldout_y[:best_candidate_idx], heldout_y[best_candidate_idx+1:]])\n",
    "\n",
    "        gp = gp.reinit(train_x, train_y)\n",
    "        mll = ExactMarginalLogLikelihood(gp.likelihood, gp)\n",
    "\n",
    "        new_best_value = train_y.max().item()\n",
    "        if new_best_value > best_value:\n",
    "            best_value = new_best_value\n",
    "        best_values.append(best_value)\n",
    "    return np.array(best_values)\n",
    "\n",
    "def run_random_search(dm):\n",
    "    train_x, train_y = dm.train_x, dm.train_y\n",
    "    heldout_x, heldout_y = dm.heldout_x, dm.heldout_y\n",
    "    num_iterations = 30\n",
    "    best_value = train_y.max().item()\n",
    "    best_values = [best_value]\n",
    "    for _ in range(num_iterations):\n",
    "        idx = torch.randint(heldout_x.size(0), (1,))\n",
    "        train_x = torch.vstack([train_x, heldout_x[idx]])\n",
    "        train_y = torch.vstack([train_y, heldout_y[idx]])\n",
    "        heldout_x = torch.cat([heldout_x[:idx], heldout_x[idx+1:]])\n",
    "        heldout_y = torch.cat([heldout_y[:idx], heldout_y[idx+1:]])\n",
    "        new_best_value = train_y.max().item()\n",
    "        if new_best_value > best_value:\n",
    "            best_value = new_best_value\n",
    "        best_values.append(best_value)\n",
    "    return np.array(best_values)\n",
    "\n",
    "import numpy as np\n",
    "from tqdm import tqdm \n",
    "progress_bar = tqdm(total=30)\n",
    "\n",
    "representations = ['ohe', 'rxnfp', 'drfp']\n",
    "reactions = [0] # 1, 2, 3, 4]  # replace when working with other reactions\n",
    "seeds = range(10)\n",
    "\n",
    "results = {}\n",
    "\n",
    "for representation in representations:\n",
    "    results[representation] = {}\n",
    "    for reaction in reactions:\n",
    "        results[representation][reaction] = {'bo': [], 'random': []}\n",
    "        for seed in seeds:\n",
    "            seed_everything(seed)\n",
    "            # Run BO\n",
    "            dm = BODataModule(reaction=reaction, representation=representation, init_data=BOInitData(method='random', metric='jaccard', cluster_init='k-means++', seed=seed))\n",
    "            best_values_bo = run_bo(dm)\n",
    "            # Run random search\n",
    "            dm = BODataModule(reaction=reaction, representation=representation)\n",
    "            best_values_random = run_random_search(dm)\n",
    "            # Store results\n",
    "            results[representation][reaction]['bo'].append(best_values_bo)\n",
    "            results[representation][reaction]['random'].append(best_values_random)\n",
    "            progress_bar.update(1)\n",
    "\n"
   ]
  },
  {
   "attachments": {},
   "cell_type": "markdown",
   "metadata": {},
   "source": [
    "## Visualization\n",
    "Now let's plot our results. \n",
    "Are we better than the random search? \n",
    "\n",
    "Can you show these results for some of the other reactions? \n",
    "\n",
    "What do you observe? What representation works the best? \n",
    "\n",
    "Can you change the way we select the initial data points (*hint* change the parameters of the init_data argument of the BODataModule)? \n",
    "\n",
    "Which initialization strategy is the best? \n",
    "\n",
    "Can you update the plot with the max yield value for the specific reaction? "
   ]
  },
  {
   "cell_type": "code",
   "execution_count": 57,
   "metadata": {},
   "outputs": [
    {
     "data": {
      "image/png": "[encoded data removed]",
      "text/plain": [
       "<Figure size 1000x800 with 1 Axes>"
      ]
     },
     "metadata": {},
     "output_type": "display_data"
    }
   ],
   "source": [
    "import matplotlib.pyplot as plt\n",
    "\n",
    "plt.figure(figsize=(10, 8))\n",
    "reaction = 0\n",
    "\n",
    "mean_random = np.mean([np.mean(results[rep][reaction]['random'], axis=0) for rep in representations], axis=0)\n",
    "std_random = np.std([np.std(results[rep][reaction]['random'], axis=0) for rep in representations], axis=0)\n",
    "\n",
    "plt.plot(mean_random, label='Random', marker='x', linestyle='--')\n",
    "plt.fill_between(range(len(mean_random)), mean_random-std_random, mean_random+std_random, alpha=0.1)\n",
    "\n",
    "for representation in representations:\n",
    "    for reaction in reactions:\n",
    "        mean_bo = np.mean(results[representation][reaction]['bo'], axis=0)\n",
    "        std_bo = np.std(results[representation][reaction]['bo'], axis=0)\n",
    "        \n",
    "        plt.plot(mean_bo, label=f'BO - {representation} - Reaction {reaction}', marker='o')\n",
    "        plt.fill_between(range(len(mean_bo)), mean_bo-std_bo, mean_bo+std_bo, alpha=0.1)\n",
    "        \n",
    "plt.title(\"Best So Far Plot - Comparing Representations\")\n",
    "plt.xlabel('Iteration')\n",
    "plt.ylabel('Best Value')\n",
    "plt.legend()\n",
    "plt.grid(True)\n",
    "plt.show()\n"
   ]
  },
  {
   "cell_type": "code",
   "execution_count": null,
   "metadata": {},
   "outputs": [],
   "source": []
  }
 ],
 "metadata": {
  "kernelspec": {
   "display_name": "additive_bo",
   "language": "python",
   "name": "python3"
  },
  "language_info": {
   "codemirror_mode": {
    "name": "ipython",
    "version": 3
   },
   "file_extension": ".py",
   "mimetype": "text/x-python",
   "name": "python",
   "nbconvert_exporter": "python",
   "pygments_lexer": "ipython3",
   "version": "3.8.16"
  },
  "orig_nbformat": 4,
  "vscode": {
   "interpreter": {
    "hash": "8c8fd31767018617c963c6386c67ff85ad8a2ec47e81bbb467830b2728b4f39b"
   }
  }
 },
 "nbformat": 4,
 "nbformat_minor": 2
}
