{
 "cells": [
  {
   "attachments": {},
   "cell_type": "markdown",
   "metadata": {},
   "source": [
    "<a href=\"https://colab.research.google.com/github/schwallergroup/ai4chem_course/blob/main/notebooks/11%20-%20Model%20deployment/streamlit_tutorial.ipynb\" target=\"_parent\"><img src=\"https://colab.research.google.com/assets/colab-badge.svg\" alt=\"Open In Colab\"/></a>\n",
    "\n",
    "[![Open in Streamlit](https://static.streamlit.io/badges/streamlit_badge_black_white.svg)](https://victorsabanza-reaxplorer-app-0xuchr.streamlit.app/)\n",
    "\n",
    "\n",
    "## Model deployment in Streamlit "
   ]
  },
  {
   "cell_type": "markdown",
   "metadata": {},
   "source": [
    "In this tutorial, we will see how we can deploy our models using [Streamlit](https://streamlit.io/). Streamlit is an open-source Python library that makes it easy to create and share beautiful, custom web apps for machine learning and data science. We can use Streamlit to create a web app that will allow us to interact with our model.\n",
    "\n",
    "This notebook does not contain exercises, it will be a walkthrough of the steps to deploy a model in Streamlit with a practical example. We use the code in this GitHub [repository](https://github.com/victorsabanza/reaxplorer) as an example. You can have a look to the deployed app by clicking on the Streamlit badge above (don't worry, we will explain step by step the code to create it)."
   ]
  },
  {
   "cell_type": "markdown",
   "metadata": {},
   "source": [
    "# 0. Relevant packages\n",
    "\n",
    "### Streamlit\n",
    "\n",
    "First, we will need to install Streamlit in our conda environment. You just need to pip install it and you will be able to use it."
   ]
  },
  {
   "cell_type": "code",
   "execution_count": null,
   "metadata": {},
   "outputs": [],
   "source": [
    "!pip install streamlit\n",
    "\n",
    "#install streamlit ketcher, a molecular editor\n",
    "!pip install streamlit-ketcher"
   ]
  },
  {
   "cell_type": "markdown",
   "metadata": {},
   "source": [
    "# 1. Setting up our repo\n",
    "\n",
    "After training our model, we will have a GitHub repo containing our beautiful code. You have already done a great job during this course but, wouldn't it be great to share your work with the world? Let's do it!\n",
    "\n",
    "First, we will go to our GitHub repo and create a .py file that will contain the app code. Here, we called it `app.py`, but feel free to call it as you want. This file \n",
    "\n",
    "<div align=\"left\">\n",
    "<img src=\"img/repo.png\" width=\"500\"/>\n",
    "</div>\n"
   ]
  },
  {
   "cell_type": "markdown",
   "metadata": {},
   "source": [
    "# 1. Writing the app.py file\n",
    "\n",
    "Let's now dive into the code. We will explain different parts of code in the file and their corresponding functionalities in the Streamlit app. First, we import the necessary packages. We import `streamlit` as `st` and also the `st_ketcher` widget, which will allow us to draw molecules in the app."
   ]
  },
  {
   "cell_type": "code",
   "execution_count": null,
   "metadata": {},
   "outputs": [],
   "source": [
    "'''Streamlit app to deploy Reaxplorer'''\n",
    "import streamlit as st\n",
    "from rdkit import Chem\n",
    "from rdkit.Chem import AllChem\n",
    "from rdkit.Chem import Draw\n",
    "from model import *\n",
    "from utils import download_model_uspto480k, download_mcule_molecules, take_random_subset_mols, check_rxn\n",
    "from streamlit_ketcher import st_ketcher\n",
    "from rdkit.Chem.QED import qed"
   ]
  },
  {
   "cell_type": "markdown",
   "metadata": {},
   "source": [
    "Then, we will create our first lines in the app. In order to do this, we use `st.title` and `st.write` to include text (a title and a brief introduction explaining the purpose of the app). The latter is very useful as it accepts any text in the markdown format and renders it into the app. You can check additional documentation [here](https://docs.streamlit.io/library/api-reference/write-magic/st.write)."
   ]
  },
  {
   "cell_type": "code",
   "execution_count": null,
   "metadata": {},
   "outputs": [],
   "source": [
    "#start the app\n",
    "st.title('Reaxplorer')\n",
    "\n",
    "st.write('''#### Explore the chemical space of purchasable molecules using the molecular transformer.\n",
    "\n",
    "This is a simple app to explore a given molecule chemical space from purchasable molecules extracted\n",
    "from the [Mcule database](https://mcule.com/database/). Take a random subset of molecules from the database\n",
    "and predict the reactions with the molecule of interest using the [Molecular Transformer](https://pubs.acs.org/doi/full/10.1021/acscentsci.9b00576). Then filter the reactions\n",
    "based on the selected product score and display the top reactions\n",
    "\n",
    "''')"
   ]
  },
  {
   "cell_type": "markdown",
   "metadata": {},
   "source": [
    "This is the final result in the app\n",
    "\n",
    "<div align=\"left\">\n",
    "<img src=\"img/title.png\" width=\"500\"/>\n",
    "</div>"
   ]
  },
  {
   "cell_type": "markdown",
   "metadata": {},
   "source": [
    "### Sidebar functionalities"
   ]
  },
  {
   "cell_type": "markdown",
   "metadata": {},
   "source": [
    "We want our model to be interactive, so the user can play around and change different options. In order to do this, we will use the sidebar functionalities. We can create a sidebar using [st.sidebar](https://docs.streamlit.io/library/api-reference/layout/st.sidebar). Then, we can add different widgets to it. In this case, we will add four selecting widgets, one for each of the parameters of our model. "
   ]
  },
  {
   "cell_type": "code",
   "execution_count": null,
   "metadata": {},
   "outputs": [],
   "source": [
    "n_mols = st.sidebar.number_input('Number of molecules from catalogue', min_value=1, \n",
    "                        max_value=500, value=10, step=1, \n",
    "                        help='Number of molecules to select from Mcule database')\n",
    "\n",
    "random_seed = st.sidebar.number_input('Random seed', min_value=1, \n",
    "                        max_value=100, value=33, step=1,\n",
    "                        help='Random seed to select molecules from Mcule database')\n",
    "\n",
    "filtering_criteria = st.sidebar.selectbox('Filtering criteria', \n",
    "                        ['QED', 'LogP'], \n",
    "                        help='Scoring functions for product molecules')\n",
    "\n",
    "n_products = st.sidebar.number_input('Number of products', min_value=1, \n",
    "                        max_value=100, value=5, step=1, \n",
    "                        help='Number of products to display')"
   ]
  },
  {
   "cell_type": "markdown",
   "metadata": {},
   "source": [
    "You can see the sidebar on the left part of the app. We can then easily interact with the model by changing the parameters.\n",
    "\n",
    "<div align=\"left\">\n",
    "<img src=\"img/widgets.png\" width=\"300\"/>\n",
    "</div>"
   ]
  },
  {
   "cell_type": "markdown",
   "metadata": {},
   "source": [
    "### Downloading model and purchasable molecules files"
   ]
  },
  {
   "cell_type": "markdown",
   "metadata": {},
   "source": [
    "Now we will download the files we need to run the app. You could directly upload them to GitHub, but it is better to download large files to avoid problems with GitHub storage. In order to do this, we will simply use two custom functions we include in the `utils.py` file. After loading the files, we will display a success message using [st.success](https://docs.streamlit.io/library/api-reference/status/st.success)."
   ]
  },
  {
   "cell_type": "code",
   "execution_count": null,
   "metadata": {},
   "outputs": [],
   "source": [
    "#download the model\n",
    "download_model_uspto480k()\n",
    "\n",
    "#download the mcule molecules\n",
    "download_mcule_molecules()\n",
    "\n",
    "st.success('Downloaded model and molecules')"
   ]
  },
  {
   "cell_type": "markdown",
   "metadata": {},
   "source": [
    "A success message will be displayed if all files are downloaded correctly\n",
    "\n",
    "<div align=\"left\">\n",
    "<img src=\"img/success.png\" width=\"400\"/>\n",
    "</div>"
   ]
  },
  {
   "cell_type": "markdown",
   "metadata": {},
   "source": [
    "### Adding different tabs for input and output\n",
    "\n",
    "In order to separate the input from the output and make the app cleaner, we will create one tab for each part. This can be done using [st.tabs](https://docs.streamlit.io/library/api-reference/layout/st.tabs) and a context manager. After creating the tabs, we will add the widgets to each of them.\n",
    "\n",
    "For the input tab, we add some text and then an [st_ketcher](https://blog.streamlit.io/introducing-a-chemical-molecule-component-for-your-streamlit-apps/) widget to draw our molecule. This super useful and recent functionality allows us to `directly draw molecules and translate them into SMILES internally` (so the user doesn't need to know the SMILES of the molecule!). Then, we take a random subset of SMILES from the Mcule catalogue and display them as a grid image using [st.image](https://docs.streamlit.io/library/api-reference/media/st.image).\n"
   ]
  },
  {
   "cell_type": "code",
   "execution_count": null,
   "metadata": {},
   "outputs": [],
   "source": [
    "tab1, tab2 = st.tabs(['Input', 'Output'])\n",
    "\n",
    "with tab1:\n",
    "    st.write('''### Draw your molecule of interest''')\n",
    "    st.write('''Draw the molecule you want to react with the molecules from the Mcule database\n",
    "    and click **Apply**''')\n",
    "    molecule = st_ketcher(value='', key='molecule')\n",
    "\n",
    "    #read only a random subset of n_mols molecules from the .smi file\n",
    "    mols = take_random_subset_mols(n_mols, random_seed)\n",
    "\n",
    "    #display molecules as rdkit mol objects\n",
    "    mols_img = [Chem.MolFromSmiles(mol) for mol in mols]\n",
    "\n",
    "    #display images of molecules\n",
    "    st.write('''#### Selected molecules from Mcule database''')\n",
    "    img = Draw.MolsToGridImage(mols_img, molsPerRow=5, subImgSize=(200, 200))\n",
    "    st.image(img, use_column_width=True)"
   ]
  },
  {
   "cell_type": "markdown",
   "metadata": {},
   "source": [
    "As you can see, we have a molecular editor to draw our molecule in a very intuitive way for chemists.\n",
    "\n",
    "<div align=\"left\">\n",
    "<img src=\"img/input.png\" width=\"500\"/>\n",
    "</div>"
   ]
  },
  {
   "cell_type": "markdown",
   "metadata": {},
   "source": [
    "Finally, we write the output tab. We include a [st.button](https://docs.streamlit.io/library/api-reference/widgets/st.button) to run the model after drawing the input and selecting the molecules. If the button is clicked, the model runs taking as input the drawn molecule and the Mcule molecules. The functions we use are included in the `models.py` file (here is where the magic happens!). Of course, the accuracy and utility of your model will only depend on your own code, Streamlit can only help you to make it more visual and easy to use :) \n",
    "\n",
    "After getting the reaction predictions, we filter the non valid results and score the product according to our selected criterion. Then, we display the *top-n* reactions as a grid image together with the score of the product."
   ]
  },
  {
   "cell_type": "code",
   "execution_count": null,
   "metadata": {},
   "outputs": [],
   "source": [
    "with tab2:\n",
    "\n",
    "    st.write('''Click to predict the reactions''')\n",
    "    start = st.button('Predict!')\n",
    "\n",
    "    if start:\n",
    "        predicted = react_multiproducts(molecule, mols)\n",
    "        #filter non valid reactions\n",
    "        predicted_filt = [rxn for rxn in predicted if check_rxn(rxn)]\n",
    "        top_reactions, top_scores = score_reactions(predicted_filt, n_products, filtering_criteria)\n",
    "        \n",
    "        #return top n products\n",
    "        st.write('''Top reactions''')\n",
    "\n",
    "        for i, rxn in enumerate(top_reactions):\n",
    "            st.write(f'**Top {i+1} reaction**')\n",
    "            rxn = ReactionFromSmarts(rxn)\n",
    "            img = Draw.ReactionToImage(rxn)\n",
    "            st.image(img, use_column_width=True)\n",
    "            st.write(f'{filtering_criteria}: {top_scores[i]}')"
   ]
  },
  {
   "cell_type": "markdown",
   "metadata": {},
   "source": [
    "Et voilà! We can easily use our model and see the results.\n",
    "\n",
    "<div align=\"left\">\n",
    "<img src=\"img/output.png\" width=\"500\"/>\n",
    "</div>"
   ]
  },
  {
   "cell_type": "markdown",
   "metadata": {},
   "source": [
    "# 2. Deploying the app"
   ]
  },
  {
   "cell_type": "markdown",
   "metadata": {},
   "source": [
    "We have our app file ready, but how can we really deploy it to share it with other people? Streamlit makes it very easy. We just need to run the following command in our terminal (make sure you are in your project folder):\n"
   ]
  },
  {
   "cell_type": "code",
   "execution_count": null,
   "metadata": {},
   "outputs": [],
   "source": [
    "streamlit run app.py"
   ]
  },
  {
   "cell_type": "markdown",
   "metadata": {},
   "source": [
    "This command will give us an HTTP address that we can copy and paste in our browser to see the app. We can also share this address with other people so they can see our app.\n",
    "\n",
    "<div align=\"left\">\n",
    "<img src=\"img/run.png\" width=\"400\"/>\n",
    "</div>"
   ]
  },
  {
   "cell_type": "markdown",
   "metadata": {},
   "source": [
    "One of the coolest things that Streamlit offers is the ability to modify the source code and see the changes in real time. This is very useful when we are developing our app and we want to see how it looks like. We just need to save the changes in our code and the app will automatically reload. Make sure you change the settings on the upper to `Run on Save` to activate this functionality. Now everything is ready to develop your app in few minutes!\n",
    "\n",
    "<div align=\"left\">\n",
    "<img src=\"img/update.png\" width=\"600\"/>\n",
    "</div>"
   ]
  },
  {
   "cell_type": "markdown",
   "metadata": {},
   "source": [
    "Sometimes the link we obtain cannot be open outside our local network. In order to deploy the app publicaly, we can use Streamlit servers. To do this, you would need to create and account in [Streamlit Community Cloud](https://blog.streamlit.io/host-your-streamlit-app-for-free/) and link your GitHub account. Then you can select the GitHub repo containing the code and deploy it. \n",
    "\n",
    "**One crucial thing to consider is adding a `requirements.txt` file with all the packages needed to run the app**. This file will install the packages our app needs to run. Other dependencies can be installed using a `packages.txt` file. Check the [documentation](https://docs.streamlit.io/streamlit-community-cloud/get-started/deploy-an-app/app-dependencies). Here you can see the packages we specified for our app in our requirements file:\n",
    "\n",
    "```\n",
    "rdkit==2022.9.5 \n",
    "gdown==4.7.1 \n",
    "opennmt-py==2.2.0\n",
    "streamlit_ketcher==0.0.1 \n",
    "streamlit==1.22.0\n",
    "```"
   ]
  },
  {
   "cell_type": "markdown",
   "metadata": {},
   "source": [
    "And that's it! We hope you enjoyed this tutorial and you can now create your own amazing apps. If you have any questions, feel free to check the documentation and explore all the functionalities Streamlit offers. \n",
    "\n",
    "Finally, we will like to thank the Streamlit team for the fantastic work they are doing to make model deployment easier for everyone."
   ]
  }
 ],
 "metadata": {
  "kernelspec": {
   "display_name": "Python 3",
   "language": "python",
   "name": "python3"
  },
  "language_info": {
   "codemirror_mode": {
    "name": "ipython",
    "version": 3
   },
   "file_extension": ".py",
   "mimetype": "text/x-python",
   "name": "python",
   "nbconvert_exporter": "python",
   "pygments_lexer": "ipython3",
   "version": "3.8.10"
  },
  "orig_nbformat": 4,
  "vscode": {
   "interpreter": {
    "hash": "31f2aee4e71d21fbe5cf8b01ff0e069b9275f58929596ceb00d14d90e3e16cd6"
   }
  }
 },
 "nbformat": 4,
 "nbformat_minor": 2
}
