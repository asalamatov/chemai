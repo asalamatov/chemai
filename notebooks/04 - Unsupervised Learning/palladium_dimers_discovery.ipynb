{
 "cells": [
  {
   "attachments": {},
   "cell_type": "markdown",
   "metadata": {},
   "source": [
    "<a href=\"https://colab.research.google.com/github/schwallergroup/ai4chem_course/blob/main/notebooks/04%20-%20Unsupervised%20Learning/palladium_dimers_discovery.ipynb\" target=\"_parent\"><img src=\"https://colab.research.google.com/assets/colab-badge.svg\" alt=\"Open In Colab\"/></a>"
   ]
  },
  {
   "cell_type": "markdown",
   "metadata": {},
   "source": [
    "# Accelerating palladium catalyst discovery: a practical application of unsupervised learning\n",
    "\n",
    "## Table of content\n",
    "\n",
    "1. Problem introduction\n",
    "2. General clustering\n",
    "3. DFT-specific descriptors\n",
    "4. Final Clustering\n",
    "5. Experimental validation"
   ]
  },
  {
   "cell_type": "markdown",
   "metadata": {},
   "source": [
    "In this tutorial we will see how a simple algorithm like k-means can be used to discover new catalysts using few experimental data to guide the next experiments. We will see how a clever use of ML-techniques is able to reveal unintuitive patterns and suggest experiments that would be otherwise ignored.\n",
    "\n",
    "The notebook is based on the work of Hueffel et al. and was published in this [Science](https://www.science.org/doi/full/10.1126/science.abj0999) article in 2021."
   ]
  },
  {
   "cell_type": "markdown",
   "metadata": {},
   "source": [
    "# 0. Relevant packages\n",
    "\n"
   ]
  },
  {
   "cell_type": "markdown",
   "metadata": {},
   "source": [
    "Install usual packages and download the datasets."
   ]
  },
  {
   "cell_type": "code",
   "execution_count": null,
   "metadata": {},
   "outputs": [],
   "source": [
    "! pip install scikit-learn pandas numpy matplotlib seaborn scipy tqdm\n",
    "\n",
    "! mkdir data\n",
    "! wget https://raw.githubusercontent.com/schwallergroup/ai4chem_course/main/notebooks/04%20-%20Unsupervised%20Learning/data/LKB_P.csv -O data/LKB_P.csv\n",
    "! wget https://raw.githubusercontent.com/schwallergroup/ai4chem_course/main/notebooks/04%20-%20Unsupervised%20Learning/data/Dimer_LKB_P.csv -O data/Dimer_LKB_P.csv"
   ]
  },
  {
   "cell_type": "markdown",
   "metadata": {},
   "source": [
    "# 1. Problem introduction"
   ]
  },
  {
   "cell_type": "markdown",
   "metadata": {},
   "source": [
    "`Metal speciation` (the distribution of a metal in different physical and chemical forms) is a key property in homogeneous catalysis. This feature plays a crucial role in determining catalyst properties like reactivity or selectivity. Ligands are one of the factors related to metal speciation. Despite the common assumption that structure and reactvity are correlated, the impact of the ligand on catalytic activity is not fully understood, hampering the design of new catalysts.\n",
    "\n",
    "<div align=\"left\">\n",
    "<img src=\"img/speciation.png\" width=\"400\"/>\n",
    "</div>\n",
    "\n",
    "Palladium-catalyzed reactions are one of the most representative transformations involving homogeneous catalysts. Despite the majority of catalytic cycles involve Pd(0) and Pd(II) species, Pd(I) dimers with the [Pd(I)(&mu;-X)P(t-Bu)<sub>3</sub>]<sub>2</sub> motif are specially interesting due to their stability and catalytic performance. However, it is not fully understood why certain ligands favor Pd(I) dimers while others do not, so only few examples of this type of compounds were known.\n",
    "\n",
    "<div align=\"left\">\n",
    "<img src=\"img/pd.png\" width=\"400\"/>\n",
    "</div>\n",
    "\n",
    "The common strategy to discover new species is trial and error. Only 4 ligands promoting Pd(I) state had been discovered using this approach. Different attempts to overcome these limitations were tried. PCA decomposition using 28 general descriptors from a set of 348 monodentate phospine ligands was not able to derive ligand-speciation relationships. On the other hand, DFT calculation of the coprorportionation energy of Pd(0) with Pd(II) to Pd(I) suggested that high exergonicity was related to Pd(I) formation. However, the associated energy of PdCy<sub>3</sub> (non-inducing Pd(I) ligand) was rougly the same than the known Pd(I)-inducing phosphines, thus invalidating this hypothesis. \n",
    "\n",
    "<div align=\"left\">\n",
    "<img src=\"img/PdDFT.png\" width=\"400\"/>\n",
    "</div>\n",
    "\n",
    "Given the few experimental points we have, *could we use unsupervised learning to leverage this knowledge and propose new candidate ligands for Pd(I) dimers discovery?*\n"
   ]
  },
  {
   "cell_type": "markdown",
   "metadata": {},
   "source": [
    "## Exercise 1\n",
    "As a first exercise, we will load the dataframe containing the 348 phosphine ligands and the general descriptors. Each molecule is also classified in one of 8 categories describing the type of ligand. The first 4 principal components of the data are also included. We will verify that PCA is unable to give good insight to the data."
   ]
  },
  {
   "cell_type": "code",
   "execution_count": null,
   "metadata": {},
   "outputs": [],
   "source": [
    "import pandas as pd\n",
    "import matplotlib.pyplot as plt\n",
    "\n",
    "# Load ligand information\n",
    "ligands = pd.read_csv('data/LKB_P.csv', sep=';')\n",
    "\n",
    "ligands.head()"
   ]
  },
  {
   "cell_type": "markdown",
   "metadata": {},
   "source": [
    "Now, plot the ligands using PC1 and PC2, displaying also the ligand label (from the 'Type' column). "
   ]
  },
  {
   "cell_type": "code",
   "execution_count": null,
   "metadata": {},
   "outputs": [],
   "source": [
    "#YOUR CODE"
   ]
  },
  {
   "cell_type": "markdown",
   "metadata": {},
   "source": [
    "Verify that the PCA decomposition is unable to separate Pd(I) inducing ligands from the non-inducing ligand. For this purpose, plot the dataset again and remark the datapoints that correspond to the target ligands."
   ]
  },
  {
   "cell_type": "code",
   "execution_count": null,
   "metadata": {},
   "outputs": [],
   "source": [
    "#These are the indices of the positive (Pd(I) inducing) and negative ligands\n",
    "pos_refs = [16, 41, 54, 113]\n",
    "neg_refs = [21]\n",
    "\n",
    "#YOUR CODE"
   ]
  },
  {
   "cell_type": "markdown",
   "metadata": {},
   "source": [
    "You can clearly see how we are not able to extract clear information from PCA. Two of the Pd(I)-inducing ligands are closer to the non-inducing ligand than to the other known ligands, indicating that this analysis is not enough to suggest new species."
   ]
  },
  {
   "cell_type": "markdown",
   "metadata": {},
   "source": [
    "# 2. General property clustering"
   ]
  },
  {
   "cell_type": "markdown",
   "metadata": {},
   "source": [
    "Time to change the approach! First, we will see if k-means algorithm is able to cluster our ligands efficiently. This will allow us to reduce the number of possible molecules we have to consider for experimental screening."
   ]
  },
  {
   "cell_type": "markdown",
   "metadata": {},
   "source": [
    "Try to run a k-Means clustering on the data using different values of k and select the best parameters based on the inertia, distorition and silhouette score."
   ]
  },
  {
   "cell_type": "code",
   "execution_count": null,
   "metadata": {},
   "outputs": [],
   "source": [
    "# Here we provide the columns you should use. First, you should standardize the data\n",
    "process = ['E(HOMO)', 'E(LUMO)', 'He8_steric', 'PA', 'Q(B)', 'BE(B)', 'P-B', 'DP-A(B)', 'DA-P-A(B)', 'Q(Au)', 'BE(Au)',\n",
    "           'Au-Cl', 'Au-P', 'DP-A(Au)', 'DA-P-A(Au)', 'Q(Pd)', 'BE(Pd)', 'Pd-Cl trans', 'P-Pd', 'DP-A(Pd)',\n",
    "           'DA-P-A(Pd)', 'Q(Pt)', 'BE(Pt)', 'P-Pt', 'DP-A(Pt)', 'DA-P-A(Pt)', '<(H3P)Pt(PH3)', \"S4'\"]\n",
    "# Columns in the data set to exclude from clustering\n",
    "drop = ['Type', \"PC1\", \"PC2\", \"PC3\", \"PC4\"]\n",
    "\n",
    "###YORU CODE"
   ]
  },
  {
   "cell_type": "markdown",
   "metadata": {},
   "source": [
    "Plot metrics to select the best k based on this analysis."
   ]
  },
  {
   "cell_type": "code",
   "execution_count": null,
   "metadata": {},
   "outputs": [],
   "source": [
    "### YOUR CODE "
   ]
  },
  {
   "cell_type": "markdown",
   "metadata": {},
   "source": [
    "The inertia and distortin method do not suggest a clear k. Silhouette method may suggest an optimal k around 7."
   ]
  },
  {
   "cell_type": "markdown",
   "metadata": {},
   "source": [
    "## Optional\n",
    "\n",
    "In the original publication, they choose an optimal number of clusters equal to 8 (due to the similar scores achieved by k between 6 and 8 and the fact that the original classes of ligands was 8). Build a k-Means model with k=8 and fit it with 1000 different random seeds. Then, count how many times each ligand is grouped in the same cluster of the positive (Pd(I)-inducing) ligands."
   ]
  },
  {
   "cell_type": "code",
   "execution_count": null,
   "metadata": {},
   "outputs": [],
   "source": [
    "## YOUR CODE"
   ]
  },
  {
   "cell_type": "markdown",
   "metadata": {},
   "source": [
    "This way we obtain a statistics dataframe that can be used to filter the ligands based on the Score (normalized number of times that a given ligand is clustered with the reference ligands). Take the ligands that are grouped with the positive group more than 75% of the time."
   ]
  },
  {
   "cell_type": "code",
   "execution_count": 52,
   "metadata": {},
   "outputs": [],
   "source": [
    "## YOUR CODE"
   ]
  },
  {
   "cell_type": "markdown",
   "metadata": {},
   "source": [
    "Visualize the indices of the clustered ligands and verify that number 21 (non-inducing ligand) is not included in this group. This array of indices can be used to select and filter the original data."
   ]
  },
  {
   "cell_type": "code",
   "execution_count": null,
   "metadata": {},
   "outputs": [],
   "source": [
    "## YOUR CODE"
   ]
  },
  {
   "cell_type": "markdown",
   "metadata": {},
   "source": [
    "Check also that this group of ligands contains mixed ligand types."
   ]
  },
  {
   "cell_type": "code",
   "execution_count": null,
   "metadata": {},
   "outputs": [],
   "source": [
    "## YOUR CODE"
   ]
  },
  {
   "cell_type": "markdown",
   "metadata": {},
   "source": [
    "Great! We have got rid of the nasty non-inducing ligand. Besides, our selected cluster now contains different types of ligands. This is a good first step. "
   ]
  },
  {
   "cell_type": "markdown",
   "metadata": {},
   "source": [
    "# 3. DFT-specific descriptors"
   ]
  },
  {
   "cell_type": "markdown",
   "metadata": {},
   "source": [
    "The first clustering reduced the candidate ligands space to ~25% of the original size, keeping 89 ligands from the list of 348. A subsequent k-means clustering using the general descriptors in order to refine this first filtering failed. Therefore, the descriptors needed to be tuned for this specific problem. DFT-specific descriptors related to the Pd(I) iodine bridge were calculated and included in the dataset (a total of 42 new descriptors).\n",
    "\n",
    "We will not calculate all the DFT descriptors, but just load the dataset containing the refined ligands. This dataframe only contains 66 ligands as the calculations were only done for ligands containing P-C bonds."
   ]
  },
  {
   "cell_type": "code",
   "execution_count": 30,
   "metadata": {},
   "outputs": [
    {
     "data": {
      "text/html": [
       "<div>\n",
       "<style scoped>\n",
       "    .dataframe tbody tr th:only-of-type {\n",
       "        vertical-align: middle;\n",
       "    }\n",
       "\n",
       "    .dataframe tbody tr th {\n",
       "        vertical-align: top;\n",
       "    }\n",
       "\n",
       "    .dataframe thead th {\n",
       "        text-align: right;\n",
       "    }\n",
       "</style>\n",
       "<table border=\"1\" class=\"dataframe\">\n",
       "  <thead>\n",
       "    <tr style=\"text-align: right;\">\n",
       "      <th></th>\n",
       "      <th>No.</th>\n",
       "      <th>Type</th>\n",
       "      <th>E(HOMO)</th>\n",
       "      <th>E(LUMO)</th>\n",
       "      <th>He8_steric</th>\n",
       "      <th>PA</th>\n",
       "      <th>Q(Pd)</th>\n",
       "      <th>BE(Pd)</th>\n",
       "      <th>Pd-Cl trans</th>\n",
       "      <th>P-Pd</th>\n",
       "      <th>...</th>\n",
       "      <th>G_NBO_Pd</th>\n",
       "      <th>G_NBO_P</th>\n",
       "      <th>G_LENGTH_Pd_P</th>\n",
       "      <th>G_LENGTH_Pd_Pd</th>\n",
       "      <th>G_TORSION_Pd_I_I_Pd</th>\n",
       "      <th>G_ORDER_Pd_Pd</th>\n",
       "      <th>PC1'</th>\n",
       "      <th>PC2'</th>\n",
       "      <th>PC3'</th>\n",
       "      <th>PC4'</th>\n",
       "    </tr>\n",
       "  </thead>\n",
       "  <tbody>\n",
       "    <tr>\n",
       "      <th>0</th>\n",
       "      <td>15</td>\n",
       "      <td>R</td>\n",
       "      <td>-0.17500</td>\n",
       "      <td>0.02350</td>\n",
       "      <td>37.82</td>\n",
       "      <td>247.52</td>\n",
       "      <td>-1.257</td>\n",
       "      <td>30.03</td>\n",
       "      <td>2.379</td>\n",
       "      <td>2.337</td>\n",
       "      <td>...</td>\n",
       "      <td>-0.379685</td>\n",
       "      <td>1.297005</td>\n",
       "      <td>2.312152</td>\n",
       "      <td>3.226557</td>\n",
       "      <td>103.059842</td>\n",
       "      <td>0.1171</td>\n",
       "      <td>-0.986788</td>\n",
       "      <td>0.414056</td>\n",
       "      <td>0.017615</td>\n",
       "      <td>-0.632639</td>\n",
       "    </tr>\n",
       "    <tr>\n",
       "      <th>1</th>\n",
       "      <td>16</td>\n",
       "      <td>R</td>\n",
       "      <td>-0.17267</td>\n",
       "      <td>0.02754</td>\n",
       "      <td>23.38</td>\n",
       "      <td>250.80</td>\n",
       "      <td>-1.200</td>\n",
       "      <td>23.90</td>\n",
       "      <td>2.382</td>\n",
       "      <td>2.418</td>\n",
       "      <td>...</td>\n",
       "      <td>-0.278010</td>\n",
       "      <td>1.232615</td>\n",
       "      <td>2.413734</td>\n",
       "      <td>4.305073</td>\n",
       "      <td>174.451579</td>\n",
       "      <td>0.0264</td>\n",
       "      <td>1.198717</td>\n",
       "      <td>1.162347</td>\n",
       "      <td>0.901051</td>\n",
       "      <td>-0.055612</td>\n",
       "    </tr>\n",
       "    <tr>\n",
       "      <th>2</th>\n",
       "      <td>19</td>\n",
       "      <td>R</td>\n",
       "      <td>-0.18340</td>\n",
       "      <td>0.01900</td>\n",
       "      <td>31.31</td>\n",
       "      <td>243.63</td>\n",
       "      <td>-1.282</td>\n",
       "      <td>28.25</td>\n",
       "      <td>2.377</td>\n",
       "      <td>2.308</td>\n",
       "      <td>...</td>\n",
       "      <td>-0.340260</td>\n",
       "      <td>1.205245</td>\n",
       "      <td>2.314010</td>\n",
       "      <td>3.620629</td>\n",
       "      <td>124.149654</td>\n",
       "      <td>0.0713</td>\n",
       "      <td>-0.146169</td>\n",
       "      <td>-0.318877</td>\n",
       "      <td>0.877642</td>\n",
       "      <td>-0.227544</td>\n",
       "    </tr>\n",
       "    <tr>\n",
       "      <th>3</th>\n",
       "      <td>36</td>\n",
       "      <td>R</td>\n",
       "      <td>-0.17840</td>\n",
       "      <td>0.02300</td>\n",
       "      <td>19.69</td>\n",
       "      <td>245.86</td>\n",
       "      <td>-1.275</td>\n",
       "      <td>34.79</td>\n",
       "      <td>2.379</td>\n",
       "      <td>2.321</td>\n",
       "      <td>...</td>\n",
       "      <td>-0.365385</td>\n",
       "      <td>1.280040</td>\n",
       "      <td>2.317294</td>\n",
       "      <td>3.187955</td>\n",
       "      <td>101.341176</td>\n",
       "      <td>0.1254</td>\n",
       "      <td>-1.135555</td>\n",
       "      <td>0.275201</td>\n",
       "      <td>0.181931</td>\n",
       "      <td>-0.516078</td>\n",
       "    </tr>\n",
       "    <tr>\n",
       "      <th>4</th>\n",
       "      <td>37</td>\n",
       "      <td>R</td>\n",
       "      <td>-0.17790</td>\n",
       "      <td>0.02220</td>\n",
       "      <td>18.53</td>\n",
       "      <td>246.58</td>\n",
       "      <td>-1.253</td>\n",
       "      <td>35.72</td>\n",
       "      <td>2.380</td>\n",
       "      <td>2.334</td>\n",
       "      <td>...</td>\n",
       "      <td>-0.387150</td>\n",
       "      <td>1.284050</td>\n",
       "      <td>2.346424</td>\n",
       "      <td>3.102411</td>\n",
       "      <td>95.391197</td>\n",
       "      <td>0.1369</td>\n",
       "      <td>-0.904739</td>\n",
       "      <td>0.447820</td>\n",
       "      <td>0.106396</td>\n",
       "      <td>-0.301205</td>\n",
       "    </tr>\n",
       "  </tbody>\n",
       "</table>\n",
       "<p>5 rows × 62 columns</p>\n",
       "</div>"
      ],
      "text/plain": [
       "   No. Type  E(HOMO)  E(LUMO)  He8_steric      PA  Q(Pd)  BE(Pd)  Pd-Cl trans  \\\n",
       "0   15    R -0.17500  0.02350       37.82  247.52 -1.257   30.03        2.379   \n",
       "1   16    R -0.17267  0.02754       23.38  250.80 -1.200   23.90        2.382   \n",
       "2   19    R -0.18340  0.01900       31.31  243.63 -1.282   28.25        2.377   \n",
       "3   36    R -0.17840  0.02300       19.69  245.86 -1.275   34.79        2.379   \n",
       "4   37    R -0.17790  0.02220       18.53  246.58 -1.253   35.72        2.380   \n",
       "\n",
       "    P-Pd  ...  G_NBO_Pd   G_NBO_P  G_LENGTH_Pd_P  G_LENGTH_Pd_Pd  \\\n",
       "0  2.337  ... -0.379685  1.297005       2.312152        3.226557   \n",
       "1  2.418  ... -0.278010  1.232615       2.413734        4.305073   \n",
       "2  2.308  ... -0.340260  1.205245       2.314010        3.620629   \n",
       "3  2.321  ... -0.365385  1.280040       2.317294        3.187955   \n",
       "4  2.334  ... -0.387150  1.284050       2.346424        3.102411   \n",
       "\n",
       "   G_TORSION_Pd_I_I_Pd  G_ORDER_Pd_Pd      PC1'      PC2'      PC3'      PC4'  \n",
       "0           103.059842         0.1171 -0.986788  0.414056  0.017615 -0.632639  \n",
       "1           174.451579         0.0264  1.198717  1.162347  0.901051 -0.055612  \n",
       "2           124.149654         0.0713 -0.146169 -0.318877  0.877642 -0.227544  \n",
       "3           101.341176         0.1254 -1.135555  0.275201  0.181931 -0.516078  \n",
       "4            95.391197         0.1369 -0.904739  0.447820  0.106396 -0.301205  \n",
       "\n",
       "[5 rows x 62 columns]"
      ]
     },
     "execution_count": 30,
     "metadata": {},
     "output_type": "execute_result"
    }
   ],
   "source": [
    "#Load and visualize the dataframe containing DFT-specific descriptors (the Dimer_LKB_P.csv file)\n",
    "## YOUR CODE\n"
   ]
  },
  {
   "cell_type": "markdown",
   "metadata": {},
   "source": [
    "# 4. Final clustering: unraveling new ligands"
   ]
  },
  {
   "cell_type": "markdown",
   "metadata": {},
   "source": [
    "Once the new descriptors were calculated, we can try a second k-Means clustering to see if we can reduce even more our candidate space. Repeat the same clusterig process to select the optimum k."
   ]
  },
  {
   "cell_type": "code",
   "execution_count": null,
   "metadata": {},
   "outputs": [],
   "source": [
    "# Columns in the data set to exclude \n",
    "drop = [\"Type\", \"PC1\", \"PC2\", \"PC3\", \"PC4\", \"PC1'\", \"PC2'\", \"PC3'\", \"PC4'\"]\n",
    "\n",
    "#adjust the references of the positive ligands in the new dataframe\n",
    "refs = [1, 8, 18, 36]\n",
    "\n",
    "## YOUR CODE"
   ]
  },
  {
   "cell_type": "markdown",
   "metadata": {},
   "source": [
    "Plot the metrics"
   ]
  },
  {
   "cell_type": "code",
   "execution_count": null,
   "metadata": {},
   "outputs": [],
   "source": [
    "## YOUR CODE"
   ]
  },
  {
   "cell_type": "markdown",
   "metadata": {},
   "source": [
    "In this case, the metrics again do not seem very informative."
   ]
  },
  {
   "cell_type": "markdown",
   "metadata": {},
   "source": [
    "## Optional\n",
    "\n",
    "In the original publication, they choose an optimal number of clusters equal to 6. Build a k-Means model with k=6 and fit it with 1000 different random seeds. Then, count how many times each ligand is grouped in the same cluster of the positive ligands."
   ]
  },
  {
   "cell_type": "code",
   "execution_count": null,
   "metadata": {},
   "outputs": [],
   "source": [
    "## YOUR CODE"
   ]
  },
  {
   "cell_type": "markdown",
   "metadata": {},
   "source": [
    "Now, select the ligands that are grouped in the same clusters than our reference ligands more than 50% of the time."
   ]
  },
  {
   "cell_type": "code",
   "execution_count": null,
   "metadata": {},
   "outputs": [],
   "source": [
    "## YOUR CODE"
   ]
  },
  {
   "cell_type": "markdown",
   "metadata": {},
   "source": [
    "# 5. Experimental validation"
   ]
  },
  {
   "cell_type": "markdown",
   "metadata": {},
   "source": [
    "The second clustering grouped 21 new ligands together with the 4 already known Pd(I) dimer-inducer ligands. These predictions were tested experimentally, and these were the results:\n",
    "\n",
    "<div align=\"left\">\n",
    "<img src=\"img/exp_validation.png\" width=\"400\"/>\n",
    "</div>\n",
    "\n",
    "8 new dimers were discovered! Quite an impressive result given the low amount of previous data and the poor understanding of ligand-speciation relationship. You can check the structures of the proposed ligands in the SI of the original paper, and realize how different these molecules are. Probably, a human researcher would have discarded them, but ML was able to point out the similarities and provide meaningful counterintuitive experimental suggestions."
   ]
  },
  {
   "cell_type": "markdown",
   "metadata": {},
   "source": [
    "# Conclusion"
   ]
  },
  {
   "cell_type": "markdown",
   "metadata": {},
   "source": [
    "In this notebook, you have seen how a simple algorithm like k-means can be very powerful if applied wisely. Researchers at the interface of ML and Chemistry can combine both domains to obtain impressive results. We hope this example motivates you to keep learning more!\n",
    "\n",
    "Finally, [here](https://github.com/J-Hueffel/PdDimer) is the repo from the original publication, in case you want to check the code. We would also like to acknowledge the [Schoenebeck](https://www.schoenebeck.oc.rwth-aachen.de/) group for this fantastic work."
   ]
  }
 ],
 "metadata": {
  "kernelspec": {
   "display_name": "Python 3.9.12 ('base')",
   "language": "python",
   "name": "python3"
  },
  "language_info": {
   "codemirror_mode": {
    "name": "ipython",
    "version": 3
   },
   "file_extension": ".py",
   "mimetype": "text/x-python",
   "name": "python",
   "nbconvert_exporter": "python",
   "pygments_lexer": "ipython3",
   "version": "3.9.12"
  },
  "orig_nbformat": 4,
  "vscode": {
   "interpreter": {
    "hash": "1be16fbddf550357e4e46540ee01bc6d12a48d7bc56fc8427cd30121d5943dc8"
   }
  }
 },
 "nbformat": 4,
 "nbformat_minor": 2
}
